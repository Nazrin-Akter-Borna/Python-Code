{
 "cells": [
  {
   "cell_type": "markdown",
   "metadata": {},
   "source": [
    "This is my first program."
   ]
  },
  {
   "cell_type": "code",
   "execution_count": 1,
   "metadata": {},
   "outputs": [
    {
     "name": "stdout",
     "output_type": "stream",
     "text": [
      "Hello\n"
     ]
    }
   ],
   "source": [
    "print(\"Hello\")"
   ]
  },
  {
   "cell_type": "code",
   "execution_count": 2,
   "metadata": {},
   "outputs": [
    {
     "name": "stdout",
     "output_type": "stream",
     "text": [
      "Hello\n"
     ]
    }
   ],
   "source": [
    "print(\"Hello\")"
   ]
  },
  {
   "cell_type": "code",
   "execution_count": 3,
   "metadata": {},
   "outputs": [
    {
     "name": "stdout",
     "output_type": "stream",
     "text": [
      "Hello\n"
     ]
    }
   ],
   "source": [
    "print('Hello')"
   ]
  },
  {
   "cell_type": "markdown",
   "metadata": {},
   "source": [
    "i eat 'rice' and 'fish' "
   ]
  },
  {
   "cell_type": "code",
   "execution_count": 5,
   "metadata": {},
   "outputs": [
    {
     "name": "stdout",
     "output_type": "stream",
     "text": [
      "i eat 'rice'and 'fish'\n"
     ]
    }
   ],
   "source": [
    "print(\"i eat 'rice'and 'fish'\")"
   ]
  },
  {
   "cell_type": "markdown",
   "metadata": {},
   "source": [
    "# Variables"
   ]
  },
  {
   "cell_type": "code",
   "execution_count": 6,
   "metadata": {},
   "outputs": [
    {
     "name": "stdout",
     "output_type": "stream",
     "text": [
      "<class 'int'>\n"
     ]
    }
   ],
   "source": [
    "a = 5\n",
    "print(type(a))"
   ]
  },
  {
   "cell_type": "code",
   "execution_count": 7,
   "metadata": {},
   "outputs": [
    {
     "name": "stdout",
     "output_type": "stream",
     "text": [
      "<class 'float'>\n"
     ]
    }
   ],
   "source": [
    "a = 12.25\n",
    "print(type(a))"
   ]
  },
  {
   "cell_type": "code",
   "execution_count": 10,
   "metadata": {},
   "outputs": [
    {
     "name": "stdout",
     "output_type": "stream",
     "text": [
      "<class 'str'>\n"
     ]
    }
   ],
   "source": [
    "a = '5'\n",
    "print(type(a))"
   ]
  },
  {
   "cell_type": "code",
   "execution_count": 12,
   "metadata": {},
   "outputs": [
    {
     "name": "stdout",
     "output_type": "stream",
     "text": [
      "15\n"
     ]
    }
   ],
   "source": [
    "a=5\n",
    "b=10\n",
    "sum=a+b\n",
    "print(sum) "
   ]
  },
  {
   "cell_type": "code",
   "execution_count": 14,
   "metadata": {},
   "outputs": [
    {
     "name": "stdout",
     "output_type": "stream",
     "text": [
      "the sum is 15\n"
     ]
    }
   ],
   "source": [
    "print(\"the sum is\", sum)"
   ]
  },
  {
   "cell_type": "code",
   "execution_count": 15,
   "metadata": {},
   "outputs": [
    {
     "name": "stdout",
     "output_type": "stream",
     "text": [
      "The sum of  5 and 10 is 15\n"
     ]
    }
   ],
   "source": [
    "print('The sum of ',a ,'and', b ,'is', sum)"
   ]
  },
  {
   "cell_type": "code",
   "execution_count": 17,
   "metadata": {},
   "outputs": [
    {
     "name": "stdout",
     "output_type": "stream",
     "text": [
      "50 0.5 -5\n"
     ]
    }
   ],
   "source": [
    "x = a*b\n",
    "d = a/b\n",
    "s = a-b\n",
    "\n",
    "print(x,d,s)"
   ]
  },
  {
   "cell_type": "code",
   "execution_count": 21,
   "metadata": {},
   "outputs": [
    {
     "name": "stdout",
     "output_type": "stream",
     "text": [
      "<class 'int'>\n",
      "1\n"
     ]
    }
   ],
   "source": [
    "x = 1.5\n",
    "x = 3 // 2\n",
    "print(type(x))\n",
    "print(x)"
   ]
  },
  {
   "cell_type": "code",
   "execution_count": 20,
   "metadata": {},
   "outputs": [
    {
     "name": "stdout",
     "output_type": "stream",
     "text": [
      "<class 'float'>\n",
      "1.5\n"
     ]
    }
   ],
   "source": [
    "x = 1.5\n",
    "x = 3 / 2\n",
    "print(type(x))\n",
    "print(x)"
   ]
  },
  {
   "cell_type": "code",
   "execution_count": 1,
   "metadata": {},
   "outputs": [
    {
     "name": "stdout",
     "output_type": "stream",
     "text": [
      "There are 4 kittens\n"
     ]
    }
   ],
   "source": [
    "num_kittens = 0\n",
    "\n",
    "# you see one kitten\n",
    "num_kittens += 1\n",
    "\n",
    "# you see another kitten\n",
    "num_kittens += 1\n",
    "\n",
    "# you see two kittens in the corner of the box\n",
    "num_kittens += 2\n",
    "\n",
    "print(f'There are {num_kittens} kittens')"
   ]
  },
  {
   "cell_type": "code",
   "execution_count": 3,
   "metadata": {},
   "outputs": [
    {
     "name": "stdout",
     "output_type": "stream",
     "text": [
      "12\n",
      "12\n",
      "<class 'str'>\n"
     ]
    }
   ],
   "source": [
    "a = input()\n",
    "\n",
    "print(a)\n",
    "print(type(a))"
   ]
  },
  {
   "cell_type": "markdown",
   "metadata": {},
   "source": [
    "How to convert string to number"
   ]
  },
  {
   "cell_type": "code",
   "execution_count": 4,
   "metadata": {},
   "outputs": [
    {
     "name": "stdout",
     "output_type": "stream",
     "text": [
      "12\n",
      "12\n",
      "<class 'int'>\n"
     ]
    }
   ],
   "source": [
    "a = int(input())\n",
    "\n",
    "print(a)\n",
    "print(type(a))"
   ]
  },
  {
   "cell_type": "code",
   "execution_count": 7,
   "metadata": {},
   "outputs": [
    {
     "name": "stdout",
     "output_type": "stream",
     "text": [
      "Enter your age: 22\n",
      "22\n"
     ]
    }
   ],
   "source": [
    "b = int(input(\"Enter your age: \"))    # user friendly function\n",
    "print(b)"
   ]
  },
  {
   "cell_type": "code",
   "execution_count": 8,
   "metadata": {},
   "outputs": [
    {
     "name": "stdout",
     "output_type": "stream",
     "text": [
      "Enter the value of x:5\n",
      "Enter the value of y:6\n",
      "The result is 30\n"
     ]
    }
   ],
   "source": [
    "#Multiplication of two number\n",
    "\n",
    "x = int(input(\"Enter the value of x:\"))\n",
    "\n",
    "y = int(input(\"Enter the value of y:\"))\n",
    "\n",
    "mul = x*y\n",
    "\n",
    "print(\"The result is\",mul)"
   ]
  },
  {
   "cell_type": "code",
   "execution_count": 10,
   "metadata": {},
   "outputs": [
    {
     "name": "stdout",
     "output_type": "stream",
     "text": [
      "Enter the value of x:5\n",
      "Enter the value of y:7\n",
      "The result is 35\n",
      "5 * 7 = 35\n"
     ]
    }
   ],
   "source": [
    "# convert the  above code into function code\n",
    "\n",
    "def mul_x_and_y():\n",
    "    x = int(input(\"Enter the value of x:\"))\n",
    "\n",
    "    y = int(input(\"Enter the value of y:\"))\n",
    "\n",
    "    mul = x*y\n",
    "    \n",
    "    print(\"The result is\",mul)\n",
    "    print(f'{x} * {y} = {x*y}')\n",
    "    \n",
    "\n",
    "mul_x_and_y()"
   ]
  },
  {
   "cell_type": "code",
   "execution_count": 11,
   "metadata": {},
   "outputs": [
    {
     "name": "stdout",
     "output_type": "stream",
     "text": [
      "15\n"
     ]
    }
   ],
   "source": [
    "#convert float to int\n",
    "\n",
    "a = 15.75\n",
    "b = int(a)\n",
    "print(b)"
   ]
  },
  {
   "cell_type": "code",
   "execution_count": 13,
   "metadata": {},
   "outputs": [
    {
     "name": "stdout",
     "output_type": "stream",
     "text": [
      "17\n",
      "e\n"
     ]
    }
   ],
   "source": [
    "def get_middle_letter(some_word):\n",
    "    # first get the length\n",
    "    length = len(some_word)\n",
    "    \n",
    "    print(length)\n",
    "\n",
    "    return some_word[int(length/ 2)]\n",
    "\n",
    "print(get_middle_letter('coldseptemberrain'))"
   ]
  },
  {
   "cell_type": "code",
   "execution_count": 14,
   "metadata": {},
   "outputs": [
    {
     "name": "stdout",
     "output_type": "stream",
     "text": [
      "17\n",
      "e\n"
     ]
    }
   ],
   "source": [
    "def get_middle_letter(some_word):\n",
    "    # first get the length\n",
    "    length = len(some_word)\n",
    "    \n",
    "    print(length)\n",
    "\n",
    "    print(some_word[int(length/ 2)])\n",
    "\n",
    "get_middle_letter('coldseptemberrain')"
   ]
  },
  {
   "cell_type": "code",
   "execution_count": 3,
   "metadata": {},
   "outputs": [
    {
     "name": "stdout",
     "output_type": "stream",
     "text": [
      "93.8\n"
     ]
    }
   ],
   "source": [
    "y, l, z, x, p = 54, '43', 27.3, '93.8', 'dog'\n",
    "print(x)"
   ]
  },
  {
   "cell_type": "code",
   "execution_count": 4,
   "metadata": {},
   "outputs": [
    {
     "name": "stdout",
     "output_type": "stream",
     "text": [
      "True\n"
     ]
    }
   ],
   "source": [
    "x=4\n",
    "y = 2**2\n",
    "print(id(x) == id(y))"
   ]
  },
  {
   "cell_type": "code",
   "execution_count": 5,
   "metadata": {},
   "outputs": [
    {
     "data": {
      "text/plain": [
       "10"
      ]
     },
     "execution_count": 5,
     "metadata": {},
     "output_type": "execute_result"
    }
   ],
   "source": [
    "def just_return_x(x):\n",
    "  return x\n",
    "just_return_x(10)"
   ]
  },
  {
   "cell_type": "code",
   "execution_count": 6,
   "metadata": {},
   "outputs": [
    {
     "name": "stdout",
     "output_type": "stream",
     "text": [
      "France Spain\n"
     ]
    }
   ],
   "source": [
    "location = 'Spain'\n",
    "def find_location(location):\n",
    "  location = 'France'\n",
    "  return location\n",
    "print(find_location(location), location)"
   ]
  },
  {
   "cell_type": "code",
   "execution_count": 7,
   "metadata": {},
   "outputs": [
    {
     "name": "stdout",
     "output_type": "stream",
     "text": [
      "10\n"
     ]
    }
   ],
   "source": [
    "math=5+5\n",
    "print(math)"
   ]
  },
  {
   "cell_type": "code",
   "execution_count": 1,
   "metadata": {},
   "outputs": [
    {
     "name": "stdout",
     "output_type": "stream",
     "text": [
      "3.6666666666666665\n",
      "2\n"
     ]
    }
   ],
   "source": [
    "# / and % operator\n",
    "\n",
    "x = 11/3\n",
    "\n",
    "print(x)\n",
    "\n",
    "y = 11%3\n",
    "\n",
    "print(y)"
   ]
  },
  {
   "cell_type": "code",
   "execution_count": 2,
   "metadata": {},
   "outputs": [
    {
     "name": "stdout",
     "output_type": "stream",
     "text": [
      "<class 'float'>\n",
      "1632930340976\n",
      "140713332482448\n"
     ]
    }
   ],
   "source": [
    "x = 1.5\n",
    "print(type(x))\n",
    "print(id(x))\n",
    "\n",
    "x = int(x)\n",
    "print(id(x))\n"
   ]
  },
  {
   "cell_type": "code",
   "execution_count": 3,
   "metadata": {},
   "outputs": [
    {
     "name": "stdout",
     "output_type": "stream",
     "text": [
      "True\n"
     ]
    }
   ],
   "source": [
    "x = 3\n",
    "y = 3\n",
    "print(id(x) == id(y))"
   ]
  },
  {
   "cell_type": "code",
   "execution_count": 4,
   "metadata": {},
   "outputs": [
    {
     "name": "stdout",
     "output_type": "stream",
     "text": [
      "False\n"
     ]
    }
   ],
   "source": [
    "x = 4\n",
    "y = 3\n",
    "print(id(x) == id(y))"
   ]
  },
  {
   "cell_type": "code",
   "execution_count": 5,
   "metadata": {},
   "outputs": [
    {
     "name": "stdout",
     "output_type": "stream",
     "text": [
      "5\n"
     ]
    }
   ],
   "source": [
    "def function():    # no argument no return\n",
    "    x=5\n",
    "    print(x)\n",
    "    \n",
    "function()"
   ]
  },
  {
   "cell_type": "code",
   "execution_count": 6,
   "metadata": {},
   "outputs": [
    {
     "name": "stdout",
     "output_type": "stream",
     "text": [
      "5\n"
     ]
    }
   ],
   "source": [
    "def function():    # no argument but return\n",
    "    x=5\n",
    "    return(x)\n",
    "    \n",
    "print(function())"
   ]
  },
  {
   "cell_type": "code",
   "execution_count": 7,
   "metadata": {},
   "outputs": [
    {
     "name": "stdout",
     "output_type": "stream",
     "text": [
      "5\n"
     ]
    }
   ],
   "source": [
    "def function(x):   # argument no return\n",
    "    print(x)\n",
    "    \n",
    "function(5)"
   ]
  },
  {
   "cell_type": "code",
   "execution_count": 8,
   "metadata": {},
   "outputs": [
    {
     "name": "stdout",
     "output_type": "stream",
     "text": [
      "5\n"
     ]
    }
   ],
   "source": [
    "def function(x):    # argument and return\n",
    "    return(x)\n",
    "    \n",
    "print(function(5))"
   ]
  },
  {
   "cell_type": "code",
   "execution_count": 10,
   "metadata": {},
   "outputs": [
    {
     "name": "stdout",
     "output_type": "stream",
     "text": [
      "5\n"
     ]
    }
   ],
   "source": [
    "def function(x):    # argument and return\n",
    "    return(x)\n",
    "\n",
    "y=function(5)\n",
    "\n",
    "print(y)          # we can assign the function value into a variable and then print the variable and get the same result"
   ]
  },
  {
   "cell_type": "code",
   "execution_count": 19,
   "metadata": {},
   "outputs": [
    {
     "name": "stdout",
     "output_type": "stream",
     "text": [
      "11\n",
      "16\n"
     ]
    }
   ],
   "source": [
    "a=6\n",
    "\n",
    "def function(x):    # argument and return\n",
    "    return(x+a)\n",
    "\n",
    "def new_function(m):\n",
    "    return(m+a)\n",
    "\n",
    "y=function(5)\n",
    "z=new_function(10)\n",
    "\n",
    "print(y)\n",
    "print(z)\n",
    "\n"
   ]
  },
  {
   "cell_type": "code",
   "execution_count": 5,
   "metadata": {},
   "outputs": [
    {
     "name": "stdout",
     "output_type": "stream",
     "text": [
      "2 3\n"
     ]
    }
   ],
   "source": [
    "def function():\n",
    "    x=2\n",
    "    y=3\n",
    "    print(x,y)\n",
    "    \n",
    "function()    "
   ]
  },
  {
   "cell_type": "code",
   "execution_count": 9,
   "metadata": {},
   "outputs": [
    {
     "name": "stdout",
     "output_type": "stream",
     "text": [
      "5\n",
      "<class 'int'>\n",
      "5\n"
     ]
    }
   ],
   "source": [
    "x = int(input())\n",
    "\n",
    "print(type(x))\n",
    "print(x)\n"
   ]
  },
  {
   "cell_type": "code",
   "execution_count": 12,
   "metadata": {},
   "outputs": [
    {
     "name": "stdout",
     "output_type": "stream",
     "text": [
      "True\n",
      "False\n",
      "False\n"
     ]
    }
   ],
   "source": [
    "def equal_enough(float1, float2, difference):\n",
    "    if abs(float1 - float2) < difference:\n",
    "        return True\n",
    "    else:\n",
    "        return False\n",
    "\n",
    "print(equal_enough(3.00001, 3.00, .01))\n",
    "print(equal_enough(7.2,7.0,0.1))\n",
    "print(equal_enough(150,220,52))"
   ]
  },
  {
   "cell_type": "code",
   "execution_count": 1,
   "metadata": {},
   "outputs": [
    {
     "name": "stdout",
     "output_type": "stream",
     "text": [
      "<class 'str'>\n",
      "17\n",
      "Hi, I am a string\n"
     ]
    }
   ],
   "source": [
    "# String\n",
    "\n",
    "some_str = 'Hi, I am a string'\n",
    "\n",
    "print(type(some_str))\n",
    "print(len(some_str))\n",
    "print(some_str)\n"
   ]
  },
  {
   "cell_type": "code",
   "execution_count": 2,
   "metadata": {},
   "outputs": [
    {
     "name": "stdout",
     "output_type": "stream",
     "text": [
      "Hello You\n"
     ]
    }
   ],
   "source": [
    "str1 = 'Hello '\n",
    "str2 = 'You'\n",
    "\n",
    "full_str = str1 + str2\n",
    "\n",
    "print(full_str)"
   ]
  },
  {
   "cell_type": "code",
   "execution_count": 3,
   "metadata": {},
   "outputs": [
    {
     "name": "stdout",
     "output_type": "stream",
     "text": [
      "84\n",
      "2.3\n",
      "24\n",
      "7.214285714285714\n",
      "8\n"
     ]
    }
   ],
   "source": [
    "print(33+51)\n",
    "print(5.5-3.2)\n",
    "print(4*6)\n",
    "print(50.5/7)\n",
    "print(2**3)"
   ]
  },
  {
   "cell_type": "code",
   "execution_count": 4,
   "metadata": {},
   "outputs": [
    {
     "name": "stdout",
     "output_type": "stream",
     "text": [
      "1\n",
      "0.0\n",
      "1\n"
     ]
    }
   ],
   "source": [
    "print(True + False)\n",
    "print(False / True)\n",
    "print(True ** False)"
   ]
  },
  {
   "cell_type": "code",
   "execution_count": 5,
   "metadata": {},
   "outputs": [
    {
     "name": "stdout",
     "output_type": "stream",
     "text": [
      "True\n",
      "0.0\n",
      "1\n"
     ]
    }
   ],
   "source": [
    "print(bool(True + False))\n",
    "print(False / True)\n",
    "print(True ** False)"
   ]
  },
  {
   "cell_type": "code",
   "execution_count": 1,
   "metadata": {},
   "outputs": [
    {
     "name": "stdout",
     "output_type": "stream",
     "text": [
      "2\n",
      "2.0\n",
      "0\n",
      "0.0\n"
     ]
    }
   ],
   "source": [
    "print(8//3)\n",
    "print(8.0//3)\n",
    "print(4//5)\n",
    "print(4.3//5.1)"
   ]
  },
  {
   "cell_type": "code",
   "execution_count": 2,
   "metadata": {},
   "outputs": [
    {
     "name": "stdout",
     "output_type": "stream",
     "text": [
      "-1\n",
      "-2\n"
     ]
    }
   ],
   "source": [
    "print(-2//5)\n",
    "print(-4//3)"
   ]
  },
  {
   "cell_type": "code",
   "execution_count": 4,
   "metadata": {},
   "outputs": [],
   "source": [
    "result = -9//4\n"
   ]
  },
  {
   "cell_type": "code",
   "execution_count": 5,
   "metadata": {},
   "outputs": [
    {
     "name": "stdout",
     "output_type": "stream",
     "text": [
      "2\n"
     ]
    }
   ],
   "source": [
    "print(-7%3)"
   ]
  },
  {
   "cell_type": "code",
   "execution_count": 6,
   "metadata": {},
   "outputs": [
    {
     "name": "stdout",
     "output_type": "stream",
     "text": [
      "-2\n"
     ]
    }
   ],
   "source": [
    "print(7%-3)"
   ]
  },
  {
   "cell_type": "code",
   "execution_count": 8,
   "metadata": {},
   "outputs": [
    {
     "name": "stdout",
     "output_type": "stream",
     "text": [
      "6\n",
      "4\n"
     ]
    }
   ],
   "source": [
    "result1 = 3**2 - 1 * 3\n",
    "print(result1)\n",
    "\n",
    "result2 = 3 + 5 % 2\n",
    "print(result2)"
   ]
  },
  {
   "cell_type": "code",
   "execution_count": 9,
   "metadata": {},
   "outputs": [
    {
     "name": "stdout",
     "output_type": "stream",
     "text": [
      "9.5\n"
     ]
    }
   ],
   "source": [
    "result1 = 1 + 2**2 + 3 * 6 / 4\n",
    "print(result1)"
   ]
  },
  {
   "cell_type": "code",
   "execution_count": 10,
   "metadata": {},
   "outputs": [
    {
     "name": "stdout",
     "output_type": "stream",
     "text": [
      "-2\n"
     ]
    }
   ],
   "source": [
    "result2 = 3 * 5 % 2 - 3\n",
    "print(result2)"
   ]
  },
  {
   "cell_type": "code",
   "execution_count": 11,
   "metadata": {},
   "outputs": [
    {
     "name": "stdout",
     "output_type": "stream",
     "text": [
      "3.0\n"
     ]
    }
   ],
   "source": [
    "result = 2**2-5%3/2\n",
    "\n",
    "print(result)"
   ]
  },
  {
   "cell_type": "code",
   "execution_count": 13,
   "metadata": {},
   "outputs": [
    {
     "name": "stdout",
     "output_type": "stream",
     "text": [
      "1.0\n"
     ]
    }
   ],
   "source": [
    "print(5%3/2)"
   ]
  },
  {
   "cell_type": "markdown",
   "metadata": {},
   "source": [
    "and is true when the both side is true\n",
    "\n",
    "or is true when one side/ both side is true\n",
    "\n",
    "not always gives the opposit value"
   ]
  },
  {
   "cell_type": "markdown",
   "metadata": {},
   "source": [
    "5>3 and 3>4 \n",
    "\n",
    "true and false\n",
    "\n",
    "false"
   ]
  },
  {
   "cell_type": "code",
   "execution_count": 14,
   "metadata": {},
   "outputs": [
    {
     "name": "stdout",
     "output_type": "stream",
     "text": [
      "False\n",
      "True\n"
     ]
    }
   ],
   "source": [
    "print(8>3 and 7<2)\n",
    "print(1==1 and 3>=2)"
   ]
  },
  {
   "cell_type": "code",
   "execution_count": 15,
   "metadata": {},
   "outputs": [
    {
     "name": "stdout",
     "output_type": "stream",
     "text": [
      "True\n"
     ]
    }
   ],
   "source": [
    "print(not 7==2 or 3<1)"
   ]
  },
  {
   "cell_type": "code",
   "execution_count": 1,
   "metadata": {},
   "outputs": [
    {
     "name": "stdout",
     "output_type": "stream",
     "text": [
      "6 is greater than 5\n"
     ]
    }
   ],
   "source": [
    "a=5\n",
    "b=6\n",
    "\n",
    "if(a>b):\n",
    "    print(a, \"is greater than\", b)\n",
    "else:\n",
    "    print(b, \"is greater than\", a)"
   ]
  },
  {
   "cell_type": "code",
   "execution_count": 5,
   "metadata": {},
   "outputs": [
    {
     "name": "stdout",
     "output_type": "stream",
     "text": [
      "some_var is less than 10\n",
      "3 is greater than some_var\n"
     ]
    }
   ],
   "source": [
    "some_var = 1\n",
    "\n",
    "if some_var < 10:\n",
    "    print(\"some_var is less than 10\")\n",
    "\n",
    "# checks if some_var is equal to the integer 5\n",
    "if some_var == 5:\n",
    "    print(\"some_var is equal to 5\")\n",
    "\n",
    "# checks if the integer 3 is greater than some_var\n",
    "if 3 > some_var:\n",
    "    print(\"3 is greater than some_var\")"
   ]
  },
  {
   "cell_type": "code",
   "execution_count": 8,
   "metadata": {},
   "outputs": [],
   "source": [
    "some_var = 10\n",
    "\n",
    "# This code will fail because the condition is invalid.  Can you tell why?\n",
    "if some_var == 5:\n",
    "    print(\"Nope!\")"
   ]
  },
  {
   "cell_type": "code",
   "execution_count": 10,
   "metadata": {},
   "outputs": [
    {
     "name": "stdout",
     "output_type": "stream",
     "text": [
      "4\n",
      "None\n"
     ]
    }
   ],
   "source": [
    "def is_it_five():\n",
    "    n=int(input())\n",
    "    if(n==5):\n",
    "        return(True)\n",
    "    else:\n",
    "        return(None)\n",
    "        \n",
    "print(is_it_five())"
   ]
  },
  {
   "cell_type": "code",
   "execution_count": 2,
   "metadata": {},
   "outputs": [
    {
     "name": "stdout",
     "output_type": "stream",
     "text": [
      "105\n"
     ]
    }
   ],
   "source": [
    "# condition\n",
    "\n",
    "#num = int(input('Enter a number: '))\n",
    "num = 35\n",
    "\n",
    "\n",
    "\n",
    "if num > 30: # Block A\n",
    "    # this code ONLY executes when the condition from **this block (Block A)** is `True`\n",
    "    print(num * 3)\n",
    "else: # Block B\n",
    "    # this code ONLY executes when the condition from **the block directly above (also Block A)** is `False`\n",
    "    print(num + 90)"
   ]
  },
  {
   "cell_type": "code",
   "execution_count": 3,
   "metadata": {},
   "outputs": [
    {
     "name": "stdout",
     "output_type": "stream",
     "text": [
      "14\n"
     ]
    }
   ],
   "source": [
    "# take two number and print the large number\n",
    "num1 = 12\n",
    "num2 = 14\n",
    "\n",
    "if(num1>num2):\n",
    "    print(num1)\n",
    "else:\n",
    "    print(num2)"
   ]
  },
  {
   "cell_type": "code",
   "execution_count": 4,
   "metadata": {},
   "outputs": [
    {
     "name": "stdout",
     "output_type": "stream",
     "text": [
      "12\n"
     ]
    }
   ],
   "source": [
    "# take two number and print the small number\n",
    "num1 = 12\n",
    "num2 = 14\n",
    "\n",
    "if(num1<num2):\n",
    "    print(num1)\n",
    "else:\n",
    "    print(num2)"
   ]
  },
  {
   "cell_type": "code",
   "execution_count": 5,
   "metadata": {},
   "outputs": [
    {
     "name": "stdout",
     "output_type": "stream",
     "text": [
      "Enter a number: 25\n",
      "`num > 20 and num < 50` resolves to `True`\n"
     ]
    }
   ],
   "source": [
    "num = int(input('Enter a number: '))\n",
    "\n",
    "if num == 10: # Block A\n",
    "    print(\"`num == 10` resolves to `True`\")\n",
    "elif num > 20 and num < 50: # Block B # the condition in this elif is only considered when the condition is Block A is `False`\n",
    "    print(\"`num > 20 and num < 50` resolves to `True`\")\n",
    "elif num == 60: # Block C # this condition is only considered when all prior conditions resolve to `False`\n",
    "    print(\"`num == 60` resolves to `True`\")\n",
    "else: # Block D # in ALL other circumstances\n",
    "    print(\"all of the prior conditions resolved to `False`\")"
   ]
  },
  {
   "cell_type": "code",
   "execution_count": 6,
   "metadata": {},
   "outputs": [],
   "source": [
    "# Home work: result processing\n",
    "# take a number and determine it's grade"
   ]
  },
  {
   "cell_type": "code",
   "execution_count": 9,
   "metadata": {},
   "outputs": [
    {
     "name": "stdout",
     "output_type": "stream",
     "text": [
      "num is less than equal 20\n"
     ]
    }
   ],
   "source": [
    "num = 25\n",
    "\n",
    "if num <= 10:\n",
    "    num += 11\n",
    "    print(\"num:\", num)\n",
    "\n",
    "elif num <= 20: # chaining off of the `if` above\n",
    "    num += 5\n",
    "    if num > 20: # this if is nested\n",
    "        print(\"num started out as less than or equal to  20 and now num is greater than 20\")\n",
    "    else: # chaining off of the `if` directly above\n",
    "        print(\"num is less than equal 20\")\n",
    "else:\n",
    "    print(\"num is greater than 20\")"
   ]
  },
  {
   "cell_type": "code",
   "execution_count": 12,
   "metadata": {},
   "outputs": [
    {
     "name": "stdout",
     "output_type": "stream",
     "text": [
      "False\n"
     ]
    }
   ],
   "source": [
    "def five_or_three(n):\n",
    "    if(n==5 or n==3):\n",
    "        return(True)\n",
    "    else:\n",
    "        return(False)\n",
    "        \n",
    "print(five_or_three(8))"
   ]
  },
  {
   "cell_type": "code",
   "execution_count": 14,
   "metadata": {},
   "outputs": [
    {
     "name": "stdout",
     "output_type": "stream",
     "text": [
      "False\n"
     ]
    }
   ],
   "source": [
    "def is_old_enough_to_drive(age):\n",
    "    if(age>=16):\n",
    "        return(True)\n",
    "    else:\n",
    "        return(False)\n",
    "        \n",
    "print(is_old_enough_to_drive(11))\n",
    "    "
   ]
  },
  {
   "cell_type": "code",
   "execution_count": 16,
   "metadata": {},
   "outputs": [
    {
     "name": "stdout",
     "output_type": "stream",
     "text": [
      "True\n"
     ]
    }
   ],
   "source": [
    "def special_or(expression1, expression2):\n",
    "    if (not(expression1 and expression2)==True):\n",
    "        return(True)\n",
    "    else:\n",
    "        return(False)\n",
    "        \n",
    "print(special_or(False, False))"
   ]
  },
  {
   "cell_type": "code",
   "execution_count": 19,
   "metadata": {},
   "outputs": [
    {
     "name": "stdout",
     "output_type": "stream",
     "text": [
      "True\n"
     ]
    }
   ],
   "source": [
    "def is_either_even_or_are_both_7(num1, num2):\n",
    "    if(num1%2==0 or num2%2==0):\n",
    "        return(True)\n",
    "    elif(num1==7 and num2==7):\n",
    "        return(True)\n",
    "    else:\n",
    "        return(False)\n",
    "    \n",
    "print(is_either_even_or_are_both_7(4,7))"
   ]
  },
  {
   "cell_type": "markdown",
   "metadata": {},
   "source": [
    "# List"
   ]
  },
  {
   "cell_type": "code",
   "execution_count": 1,
   "metadata": {},
   "outputs": [
    {
     "name": "stdout",
     "output_type": "stream",
     "text": [
      "[3, 2, 9, 18, 34]\n"
     ]
    }
   ],
   "source": [
    "some_list = [3, 2, 9, 18, 34]\n",
    "\n",
    "print(some_list)"
   ]
  },
  {
   "cell_type": "code",
   "execution_count": 2,
   "metadata": {},
   "outputs": [
    {
     "name": "stdout",
     "output_type": "stream",
     "text": [
      "18\n"
     ]
    }
   ],
   "source": [
    "print(some_list[3])"
   ]
  },
  {
   "cell_type": "code",
   "execution_count": 3,
   "metadata": {},
   "outputs": [
    {
     "name": "stdout",
     "output_type": "stream",
     "text": [
      "27\n"
     ]
    }
   ],
   "source": [
    "print(some_list[2]+some_list[3])"
   ]
  },
  {
   "cell_type": "code",
   "execution_count": 8,
   "metadata": {},
   "outputs": [
    {
     "ename": "TypeError",
     "evalue": "'list' object cannot be interpreted as an integer",
     "output_type": "error",
     "traceback": [
      "\u001b[1;31m---------------------------------------------------------------------------\u001b[0m",
      "\u001b[1;31mTypeError\u001b[0m                                 Traceback (most recent call last)",
      "\u001b[1;32m<ipython-input-8-1d3d1e237920>\u001b[0m in \u001b[0;36m<module>\u001b[1;34m\u001b[0m\n\u001b[0;32m      4\u001b[0m \u001b[1;33m\u001b[0m\u001b[0m\n\u001b[0;32m      5\u001b[0m \u001b[0mmy_list\u001b[0m \u001b[1;33m=\u001b[0m \u001b[0mlist\u001b[0m\u001b[1;33m(\u001b[0m\u001b[0mrange\u001b[0m\u001b[1;33m(\u001b[0m\u001b[1;36m0\u001b[0m\u001b[1;33m,\u001b[0m\u001b[1;36m10\u001b[0m\u001b[1;33m,\u001b[0m\u001b[1;36m2\u001b[0m\u001b[1;33m)\u001b[0m\u001b[1;33m)\u001b[0m\u001b[1;33m\u001b[0m\u001b[1;33m\u001b[0m\u001b[0m\n\u001b[1;32m----> 6\u001b[1;33m \u001b[0mprint\u001b[0m\u001b[1;33m(\u001b[0m\u001b[0mrange\u001b[0m\u001b[1;33m(\u001b[0m\u001b[0mmy_list\u001b[0m\u001b[1;33m)\u001b[0m\u001b[1;33m)\u001b[0m\u001b[1;33m\u001b[0m\u001b[1;33m\u001b[0m\u001b[0m\n\u001b[0m",
      "\u001b[1;31mTypeError\u001b[0m: 'list' object cannot be interpreted as an integer"
     ]
    }
   ],
   "source": []
  },
  {
   "cell_type": "code",
   "execution_count": 5,
   "metadata": {},
   "outputs": [
    {
     "name": "stdout",
     "output_type": "stream",
     "text": [
      "[0, 1, 2, 3, 4, 5, 6, 7, 8, 9, 10, 11, 12, 13, 14, 15, 16, 17, 18, 19, 20, 21, 22, 23, 24, 25, 26, 27, 28, 29, 30, 31, 32, 33, 34, 35, 36, 37, 38, 39, 40, 41, 42, 43, 44, 45, 46, 47, 48, 49, 50, 51, 52, 53, 54, 55, 56, 57, 58, 59, 60, 61, 62, 63, 64, 65, 66, 67, 68, 69, 70, 71, 72, 73, 74, 75, 76, 77, 78, 79, 80, 81, 82, 83, 84, 85, 86, 87, 88, 89, 90, 91, 92, 93, 94, 95, 96, 97, 98, 99]\n"
     ]
    }
   ],
   "source": [
    "my_list = list(range(100))\n",
    "\n",
    "print(my_list)"
   ]
  },
  {
   "cell_type": "code",
   "execution_count": 14,
   "metadata": {},
   "outputs": [
    {
     "name": "stdout",
     "output_type": "stream",
     "text": [
      "[1, 6, 11, 16, 21, 26, 31, 36, 41, 46, 51, 56, 61, 66, 71, 76, 81, 86, 91, 96]\n"
     ]
    }
   ],
   "source": [
    "start = 1\n",
    "stop = 100\n",
    "step = 5\n",
    "\n",
    "my_list = list(range(start,stop,step))\n",
    "print(my_list)"
   ]
  },
  {
   "cell_type": "code",
   "execution_count": 16,
   "metadata": {},
   "outputs": [
    {
     "name": "stdout",
     "output_type": "stream",
     "text": [
      "[1, 2, 3, 4, 5, 6, 7, 8, 9, 10]\n"
     ]
    }
   ],
   "source": [
    "list1 = list(range(1,10+1))\n",
    "\n",
    "print(list1)"
   ]
  },
  {
   "cell_type": "code",
   "execution_count": 17,
   "metadata": {},
   "outputs": [
    {
     "name": "stdout",
     "output_type": "stream",
     "text": [
      "the first animal in the list is cat\n"
     ]
    }
   ],
   "source": [
    "animal_list = ['cat', 'dog', 'bird', 'horse']\n",
    "\n",
    "print('the first animal in the list is {}'.format(animal_list[0]))"
   ]
  },
  {
   "cell_type": "code",
   "execution_count": 19,
   "metadata": {},
   "outputs": [
    {
     "name": "stdout",
     "output_type": "stream",
     "text": [
      "The first animal in the list is  bird\n"
     ]
    }
   ],
   "source": [
    "print('The first animal in the list is ', animal_list[2])"
   ]
  },
  {
   "cell_type": "code",
   "execution_count": 22,
   "metadata": {},
   "outputs": [
    {
     "name": "stdout",
     "output_type": "stream",
     "text": [
      "['platypus', 'beaver', 'hawk']\n",
      "['platypus', 'dolphin', 'hawk']\n",
      "['dolphin', 'hawk']\n"
     ]
    }
   ],
   "source": [
    "animal_list = ['platypus', 'beaver', 'hawk']\n",
    "\n",
    "print(animal_list)\n",
    "\n",
    "animal_list[1] = 'dolphin'\n",
    "\n",
    "print(animal_list)\n",
    "\n",
    "del animal_list[0]\n",
    "\n",
    "print(animal_list)"
   ]
  },
  {
   "cell_type": "code",
   "execution_count": 23,
   "metadata": {},
   "outputs": [
    {
     "name": "stdout",
     "output_type": "stream",
     "text": [
      "[1, 2, 3, 4, 5, 6]\n",
      "[1, 2, 11, 4, 5, 6]\n"
     ]
    }
   ],
   "source": [
    "list1= [1,2,3,4,5,6]\n",
    "\n",
    "print(list1)\n",
    "\n",
    "list1[2] = list1[2]+8\n",
    "\n",
    "print(list1)"
   ]
  },
  {
   "cell_type": "code",
   "execution_count": 2,
   "metadata": {},
   "outputs": [
    {
     "name": "stdout",
     "output_type": "stream",
     "text": [
      "[-100, -90, -80, -70, -60, -50, -40, -30, -20, -10, 0, 0, 10, 20, 30, 40, 50, 60, 70, 80, 90, 100, 11]\n"
     ]
    }
   ],
   "source": [
    "first_list = list(range(-100, 1, 10))\n",
    "second_list = list(range(0, 101, 10))\n",
    "joined_lists = first_list + second_list + [11]\n",
    "print(joined_lists)"
   ]
  },
  {
   "cell_type": "code",
   "execution_count": 3,
   "metadata": {},
   "outputs": [
    {
     "name": "stdout",
     "output_type": "stream",
     "text": [
      "[0, 1, 2, 3, 4, 5, 6, 7, 8, 9, 50, 55, 60]\n"
     ]
    }
   ],
   "source": [
    "your_list = list(range(10)) + list(range(50, 65, 5))\n",
    "\n",
    "print(your_list)"
   ]
  },
  {
   "cell_type": "code",
   "execution_count": 5,
   "metadata": {},
   "outputs": [
    {
     "name": "stdout",
     "output_type": "stream",
     "text": [
      "[20, 21, 22, 23, 24, 25, 26, 27, 28, 29, 30, 31, 32, 33, 34, 35, 36, 37, 38, 39]\n"
     ]
    }
   ],
   "source": [
    "a = 20\n",
    "n = 40\n",
    "\n",
    "num_list = list(range(a, n))\n",
    "\n",
    "print(num_list)"
   ]
  },
  {
   "cell_type": "code",
   "execution_count": 8,
   "metadata": {},
   "outputs": [
    {
     "name": "stdout",
     "output_type": "stream",
     "text": [
      "[20, 21, 22, 23, 24]\n",
      "[20, 21, 22, 23, 24]\n",
      "[30, 31, 32, 33, 34, 35, 36, 37, 38, 39]\n"
     ]
    }
   ],
   "source": [
    "print(num_list[0:5])\n",
    "print(num_list[:5])\n",
    "print(num_list[10:])"
   ]
  },
  {
   "cell_type": "code",
   "execution_count": 9,
   "metadata": {},
   "outputs": [
    {
     "name": "stdout",
     "output_type": "stream",
     "text": [
      "[21, 22, 23, 24, 25, 26, 27, 28]\n"
     ]
    }
   ],
   "source": [
    "list1 = num_list[1:9]\n",
    "\n",
    "print(list1)"
   ]
  },
  {
   "cell_type": "code",
   "execution_count": 11,
   "metadata": {},
   "outputs": [
    {
     "name": "stdout",
     "output_type": "stream",
     "text": [
      "[15, 16, 17, 18, 19]\n",
      "[15, 16, 17, 18, 19]\n"
     ]
    }
   ],
   "source": [
    "im_starting_to_hate_lists = list(range(10, 20))\n",
    "\n",
    "# get the last 5 elements\n",
    "print(im_starting_to_hate_lists[5:])\n",
    "\n",
    "# works with negative indexing as well\n",
    "print(im_starting_to_hate_lists[-5:])"
   ]
  },
  {
   "cell_type": "code",
   "execution_count": 12,
   "metadata": {},
   "outputs": [],
   "source": [
    "enough_already = list(range(-100, 101))"
   ]
  },
  {
   "cell_type": "code",
   "execution_count": 13,
   "metadata": {},
   "outputs": [
    {
     "name": "stdout",
     "output_type": "stream",
     "text": [
      "[-100, -99, -98, -97, -96, -95, -94, -93, -92, -91, -90, -89, -88, -87, -86, -85, -84, -83, -82, -81, -80, -79, -78, -77, -76, -75, -74, -73, -72, -71, -70, -69, -68, -67, -66, -65, -64, -63, -62, -61, -60, -59, -58, -57, -56, -55, -54, -53, -52, -51, -50, -49, -48, -47, -46, -45, -44, -43, -42, -41, -40, -39, -38, -37, -36, -35, -34, -33, -32, -31, -30, -29, -28, -27, -26, -25, -24, -23, -22, -21, -20, -19, -18, -17, -16, -15, -14, -13, -12, -11, -10, -9, -8, -7, -6, -5, -4, -3, -2, -1, 0, 1, 2, 3, 4, 5, 6, 7, 8, 9, 10, 11, 12, 13, 14, 15, 16, 17, 18, 19, 20, 21, 22, 23, 24, 25, 26, 27, 28, 29, 30, 31, 32, 33, 34, 35, 36, 37, 38, 39, 40, 41, 42, 43, 44, 45, 46, 47, 48, 49, 50, 51, 52, 53, 54, 55, 56, 57, 58, 59, 60, 61, 62, 63, 64, 65, 66, 67, 68, 69, 70, 71, 72, 73, 74, 75, 76, 77, 78, 79, 80, 81, 82, 83, 84, 85, 86, 87, 88, 89, 90, 91, 92, 93, 94, 95, 96, 97, 98, 99, 100]\n"
     ]
    }
   ],
   "source": [
    "print(enough_already)"
   ]
  },
  {
   "cell_type": "code",
   "execution_count": 18,
   "metadata": {},
   "outputs": [
    {
     "name": "stdout",
     "output_type": "stream",
     "text": [
      "0\n"
     ]
    }
   ],
   "source": [
    "start=-100\n",
    "stop= 100\n",
    "x = int((start+stop)/2)\n",
    "print(x)"
   ]
  },
  {
   "cell_type": "code",
   "execution_count": 22,
   "metadata": {},
   "outputs": [
    {
     "name": "stdout",
     "output_type": "stream",
     "text": [
      "[-1, 0, 1]\n"
     ]
    }
   ],
   "source": [
    "print(enough_already[99:102])"
   ]
  },
  {
   "cell_type": "code",
   "execution_count": 23,
   "metadata": {},
   "outputs": [
    {
     "name": "stdout",
     "output_type": "stream",
     "text": [
      "[-1, 0, 1]\n"
     ]
    }
   ],
   "source": [
    "okay_i_get_it=enough_already[99:102]\n",
    "print(okay_i_get_it)"
   ]
  },
  {
   "cell_type": "code",
   "execution_count": 26,
   "metadata": {},
   "outputs": [
    {
     "name": "stdout",
     "output_type": "stream",
     "text": [
      "100.5\n"
     ]
    }
   ],
   "source": [
    "n = len(enough_already)\n",
    "print(n/2)"
   ]
  },
  {
   "cell_type": "code",
   "execution_count": 27,
   "metadata": {},
   "outputs": [
    {
     "name": "stdout",
     "output_type": "stream",
     "text": [
      "['a', 'b', 'c']\n"
     ]
    }
   ],
   "source": [
    "nested_list = [['a', 'b', 'c'], [1, 2, 3]]\n",
    "print(nested_list[0])"
   ]
  },
  {
   "cell_type": "code",
   "execution_count": 28,
   "metadata": {},
   "outputs": [
    {
     "name": "stdout",
     "output_type": "stream",
     "text": [
      "b\n"
     ]
    }
   ],
   "source": [
    "print(nested_list[0][1])"
   ]
  },
  {
   "cell_type": "code",
   "execution_count": 29,
   "metadata": {},
   "outputs": [
    {
     "name": "stdout",
     "output_type": "stream",
     "text": [
      "3\n"
     ]
    }
   ],
   "source": [
    "print(nested_list[1][2])"
   ]
  },
  {
   "cell_type": "code",
   "execution_count": 31,
   "metadata": {},
   "outputs": [
    {
     "name": "stdout",
     "output_type": "stream",
     "text": [
      "[10, 11, 12, 13, 14, 15, 16, 17, 18, 19, 20]\n",
      "[['a', 'b', 'c'], [10, 11, 12, 13, 14, 15, 16, 17, 18, 19, 20], [6, 7, 8]]\n",
      "[12, 13, 14, 15, 16]\n"
     ]
    }
   ],
   "source": [
    "start = 10\n",
    "end = 21\n",
    "\n",
    "num_list = list(range(start, end))\n",
    "\n",
    "print(num_list)\n",
    "overall_list = [['a', 'b', 'c'], num_list, [6, 7, 8]]\n",
    "print(overall_list)\n",
    "\n",
    "sublist = overall_list[1][2:7]\n",
    "print(sublist)"
   ]
  },
  {
   "cell_type": "code",
   "execution_count": 36,
   "metadata": {},
   "outputs": [
    {
     "name": "stdout",
     "output_type": "stream",
     "text": [
      "[[10, 20, 30, 40, 50], [[10, 20, 30, 40, 50]]]\n"
     ]
    }
   ],
   "source": [
    "dear_god = [list(range(10, 60, 10)), [list(range(10, 60, 10))]]\n",
    "print(dear_god)"
   ]
  },
  {
   "cell_type": "code",
   "execution_count": 4,
   "metadata": {},
   "outputs": [
    {
     "name": "stdout",
     "output_type": "stream",
     "text": [
      "[1, 2, 3, 4, 5]\n",
      "2387926386248\n",
      "[1, 2, 3, 4, 5, 3, 'dog', 'cat', None]\n",
      "2387926386248\n"
     ]
    }
   ],
   "source": [
    "# create a list\n",
    "some_list = [1, 2, 3, 4, 5]\n",
    "\n",
    "# show the id() of the list\n",
    "print(some_list)\n",
    "print(id(some_list))\n",
    "\n",
    "# modify the list\n",
    "some_list.append(3)\n",
    "some_list.extend(['dog', 'cat', None])\n",
    "\n",
    "# verify that the id() has not changed\n",
    "print(some_list)\n",
    "print(id(some_list))"
   ]
  },
  {
   "cell_type": "code",
   "execution_count": 5,
   "metadata": {},
   "outputs": [
    {
     "name": "stdout",
     "output_type": "stream",
     "text": [
      "[1, 2, 3, 4, 5]\n",
      "2387926385160\n",
      "[1, 2, 3, 4, 5]\n",
      "2387926385224\n"
     ]
    }
   ],
   "source": [
    "# create two identical lists\n",
    "list1 = [1, 2, 3, 4, 5]\n",
    "list2 = [1, 2, 3, 4, 5]\n",
    "\n",
    "# show the id()s of list1\n",
    "print(list1)\n",
    "print(id(list1))\n",
    "\n",
    "# show the id()s of list2\n",
    "print(list2)\n",
    "print(id(list2))"
   ]
  },
  {
   "cell_type": "code",
   "execution_count": 6,
   "metadata": {},
   "outputs": [
    {
     "name": "stdout",
     "output_type": "stream",
     "text": [
      "False\n"
     ]
    }
   ],
   "source": [
    "# define your function here\n",
    "def verify_ids(list1,list2):\n",
    "    if(id(list1)==id(list2)):\n",
    "        return(True)\n",
    "    else:\n",
    "        return(False)\n",
    "        \n",
    "list1=[1,2,3,4,5]\n",
    "list2=[1,2,3,4,5]\n",
    "\n",
    "print(verify_ids(list1,list2))"
   ]
  },
  {
   "cell_type": "code",
   "execution_count": 12,
   "metadata": {},
   "outputs": [
    {
     "name": "stdout",
     "output_type": "stream",
     "text": [
      "[5, 6, 3]\n"
     ]
    }
   ],
   "source": [
    "# define your function here\n",
    "\n",
    "def modify_third_elem(list1,x):\n",
    "    list1[2]=x\n",
    "    return(list1)\n",
    "    \n",
    "list1=[5,6,8]\n",
    "x=3\n",
    "\n",
    "print(modify_third_elem(list1,x))"
   ]
  },
  {
   "cell_type": "code",
   "execution_count": 13,
   "metadata": {},
   "outputs": [
    {
     "name": "stdout",
     "output_type": "stream",
     "text": [
      "['dog', 'cat', 'frog', 'ferret']\n",
      "['dog', 'cat', 'frog', 'ferret']\n"
     ]
    }
   ],
   "source": [
    "# Create and list and attach it to another name\n",
    "list_a = ['dog', 'cat', 'frog']\n",
    "list_b = list_a\n",
    "\n",
    "# Append a new item to the new list\n",
    "list_b.append('ferret')\n",
    "\n",
    "# Note that both variables are affected\n",
    "print(list_a)\n",
    "print(list_b)"
   ]
  },
  {
   "cell_type": "code",
   "execution_count": 14,
   "metadata": {},
   "outputs": [
    {
     "name": "stdout",
     "output_type": "stream",
     "text": [
      "['owl', 'dog', 'beaver']\n",
      "['owl', 'dog', 'beaver', 'dolphin']\n"
     ]
    }
   ],
   "source": [
    "# use .copy() in order to avoid updating both names\n",
    "list_c = ['owl', 'dog', 'beaver']\n",
    "list_d = list_c.copy()\n",
    "\n",
    "# Append a new item to the new list\n",
    "list_d.append('dolphin')\n",
    "\n",
    "# Note that only list_d is affected\n",
    "print(list_c)\n",
    "print(list_d)"
   ]
  },
  {
   "cell_type": "code",
   "execution_count": 15,
   "metadata": {},
   "outputs": [
    {
     "name": "stdout",
     "output_type": "stream",
     "text": [
      "['owl', 'dog', 'beaver', 125]\n",
      "['owl', 'dog', 'beaver', 'dolphin']\n"
     ]
    }
   ],
   "source": [
    "list_c.append(125)\n",
    "print(list_c)\n",
    "print(list_d)"
   ]
  },
  {
   "cell_type": "code",
   "execution_count": 16,
   "metadata": {},
   "outputs": [
    {
     "name": "stdout",
     "output_type": "stream",
     "text": [
      "['beaver', 125]\n"
     ]
    }
   ],
   "source": [
    "list1 = list_c[2:4]\n",
    "\n",
    "print(list1)"
   ]
  },
  {
   "cell_type": "code",
   "execution_count": 17,
   "metadata": {},
   "outputs": [
    {
     "name": "stdout",
     "output_type": "stream",
     "text": [
      "[1, 2, 3]\n"
     ]
    }
   ],
   "source": [
    "# define your function here\n",
    "def return_a_list_copy(list1):\n",
    "    list2=list1\n",
    "    return(list2)\n",
    "    \n",
    "list1=[1,2,3]\n",
    "\n",
    "print(return_a_list_copy(list1))"
   ]
  },
  {
   "cell_type": "code",
   "execution_count": 20,
   "metadata": {},
   "outputs": [
    {
     "name": "stdout",
     "output_type": "stream",
     "text": [
      "[2, 5, 3]\n"
     ]
    }
   ],
   "source": [
    "def modify_third_elem(list1,x):\n",
    "    list1[2]=x\n",
    "    return(list1)\n",
    "    \n",
    "\n",
    "list1=[2,5,8]\n",
    "x=3\n",
    "\n",
    "print(modify_third_elem(list1,x))"
   ]
  },
  {
   "cell_type": "code",
   "execution_count": 21,
   "metadata": {},
   "outputs": [
    {
     "name": "stdout",
     "output_type": "stream",
     "text": [
      "[1, 2, 3, 4]\n"
     ]
    }
   ],
   "source": [
    "def return_a_list_copy(list1):\n",
    "    list2=list1.copy()\n",
    "    return(list2)\n",
    "\n",
    "list1=[1,2,3,4]\n",
    "\n",
    "print(return_a_list_copy(list1))"
   ]
  },
  {
   "cell_type": "code",
   "execution_count": 2,
   "metadata": {},
   "outputs": [
    {
     "name": "stdout",
     "output_type": "stream",
     "text": [
      "(1, 2, 3)\n"
     ]
    }
   ],
   "source": [
    "# define your function here\n",
    "def list_unpacker(list1):\n",
    "    a,b,c = list1\n",
    "    return(a,b,c)\n",
    "    \n",
    "list1=[1,2,3]\n",
    "\n",
    "print(list_unpacker(list1))"
   ]
  },
  {
   "cell_type": "code",
   "execution_count": 3,
   "metadata": {},
   "outputs": [
    {
     "name": "stdout",
     "output_type": "stream",
     "text": [
      "[5, 7]\n"
     ]
    }
   ],
   "source": [
    "some_list = [1, 3, 5, 7, 9, 11, 13]\n",
    "\n",
    "# create a sublist of the third and fourth elements\n",
    "sublist = some_list[2:4]\n",
    "\n",
    "print(sublist)"
   ]
  },
  {
   "cell_type": "code",
   "execution_count": 4,
   "metadata": {},
   "outputs": [
    {
     "name": "stdout",
     "output_type": "stream",
     "text": [
      "['Brad Pitt', 'Sammy Davis Jr', 'Thurston Moore']\n",
      "['seagull', 'cat', 'crane']\n"
     ]
    }
   ],
   "source": [
    "humans_and_animals = ['Brad Pitt', 'seagull', 'Sammy Davis Jr', 'cat', 'Thurston Moore', 'crane']\n",
    "\n",
    "humans = humans_and_animals[0:len(humans_and_animals):2]\n",
    "print(humans)\n",
    "\n",
    "animals = humans_and_animals[1:len(humans_and_animals):2]\n",
    "print(animals)"
   ]
  },
  {
   "cell_type": "code",
   "execution_count": 5,
   "metadata": {},
   "outputs": [
    {
     "name": "stdout",
     "output_type": "stream",
     "text": [
      "[1, 4, 7]\n"
     ]
    }
   ],
   "source": [
    "# define your function here\n",
    "def every_third_from_list(list1):\n",
    "    newlist=list1[0:len(list1):3]\n",
    "    return(newlist)\n",
    "    \n",
    "list1=[1,2,3,4,5,6,7]\n",
    "\n",
    "print(every_third_from_list(list1))"
   ]
  },
  {
   "cell_type": "code",
   "execution_count": 7,
   "metadata": {},
   "outputs": [
    {
     "name": "stdout",
     "output_type": "stream",
     "text": [
      "['1997', '2003', 1857]\n"
     ]
    }
   ],
   "source": [
    "# define your function here\n",
    "def every_third_from_list(some_list):\n",
    "    newlist=some_list[2:len(some_list):3]\n",
    "    return(newlist)\n",
    "    \n",
    "some_list = ['ford', 'taurus', '1997', 'chevy', 'malibu', '2003', 'amish', 'buggy', 1857]\n",
    "\n",
    "print(every_third_from_list(some_list))"
   ]
  },
  {
   "cell_type": "code",
   "execution_count": 10,
   "metadata": {},
   "outputs": [
    {
     "name": "stdout",
     "output_type": "stream",
     "text": [
      "[10, 12, 15]\n"
     ]
    }
   ],
   "source": [
    "\n",
    "\n",
    "def append_three_elements(list1,a,b,c):\n",
    "    list1.append(a)\n",
    "    list1.append(b)\n",
    "    list1.append(c)\n",
    "    return(list1)\n",
    "    \n",
    "list1=[]\n",
    "a=10\n",
    "b=12\n",
    "c=15\n",
    "print(append_three_elements(list1,a,b,c))\n",
    "    "
   ]
  },
  {
   "cell_type": "code",
   "execution_count": 2,
   "metadata": {},
   "outputs": [
    {
     "name": "stdout",
     "output_type": "stream",
     "text": [
      "(1, 2, 3)\n"
     ]
    }
   ],
   "source": [
    "def list_unpacker(list1):\n",
    "    a,b,c=list1\n",
    "    return(a,b,c)\n",
    "    \n",
    "\n",
    "list1=[1,2,3]\n",
    "\n",
    "print(list_unpacker(list1))"
   ]
  },
  {
   "cell_type": "code",
   "execution_count": 7,
   "metadata": {},
   "outputs": [
    {
     "name": "stdout",
     "output_type": "stream",
     "text": [
      "['1997', '2003', 1857]\n"
     ]
    }
   ],
   "source": [
    "def every_third_from_list(some_list):\n",
    "\n",
    "    newlist=some_list[2:len(some_list):3]\n",
    "    return(newlist)\n",
    "some_list = ['ford', 'taurus', '1997', 'chevy', 'malibu', '2003', 'amish', 'buggy', 1857]\n",
    "print(every_third_from_list(some_list))"
   ]
  },
  {
   "cell_type": "code",
   "execution_count": 4,
   "metadata": {},
   "outputs": [
    {
     "name": "stdout",
     "output_type": "stream",
     "text": [
      "[5, 10, 15]\n"
     ]
    }
   ],
   "source": [
    "def append_three_elements(list1,a,b,c):\n",
    "    list1.append(a)\n",
    "    list1.append(b)\n",
    "    list1.append(c)\n",
    "    return(list1)\n",
    "\n",
    "list1=[]\n",
    "a=5\n",
    "b=10\n",
    "c=15\n",
    "print(append_three_elements(list1,a,b,c))"
   ]
  },
  {
   "cell_type": "code",
   "execution_count": 7,
   "metadata": {},
   "outputs": [
    {
     "name": "stdout",
     "output_type": "stream",
     "text": [
      "[1, 2, 3, [4, 5]]\n",
      "[1, 2, 3, [4, 5], 6, 7]\n"
     ]
    }
   ],
   "source": [
    "list2=[1,2,3]\n",
    "list3=[4,5]\n",
    "list4=[6,7]\n",
    "\n",
    "list2.append(list3)\n",
    "print(list2)\n",
    "\n",
    "list2.extend(list4)\n",
    "print(list2)\n",
    "  "
   ]
  },
  {
   "cell_type": "code",
   "execution_count": 8,
   "metadata": {},
   "outputs": [
    {
     "name": "stdout",
     "output_type": "stream",
     "text": [
      "[1, 2, 3, 4, 5, 6, 7, 8, 9]\n"
     ]
    }
   ],
   "source": [
    "# define your function here\n",
    "def extend_lists(list1,list2,list3):\n",
    "    list1.extend(list2)\n",
    "    list1.extend(list3)\n",
    "    return(list1)\n",
    "    \n",
    "list1=[1,2,3]\n",
    "list2=[4,5]\n",
    "list3=[6,7,8,9]\n",
    "\n",
    "print(extend_lists(list1,list2,list3))"
   ]
  },
  {
   "cell_type": "code",
   "execution_count": 9,
   "metadata": {},
   "outputs": [
    {
     "name": "stdout",
     "output_type": "stream",
     "text": [
      "['apple', 'peach', 'mango', 'pear']\n"
     ]
    }
   ],
   "source": [
    "fruit_list = ['apple', 'pear', 'peach', 'mango', 'pear']\n",
    "\n",
    "fruit_list.remove('pear')\n",
    "print(fruit_list)"
   ]
  },
  {
   "cell_type": "code",
   "execution_count": 11,
   "metadata": {},
   "outputs": [
    {
     "name": "stdout",
     "output_type": "stream",
     "text": [
      "['apple']\n"
     ]
    }
   ],
   "source": [
    "del fruit_list[1:3]\n",
    "print(fruit_list)"
   ]
  },
  {
   "cell_type": "code",
   "execution_count": 12,
   "metadata": {},
   "outputs": [
    {
     "name": "stdout",
     "output_type": "stream",
     "text": [
      "[1, 2, 4]\n"
     ]
    }
   ],
   "source": [
    "# define your function here\n",
    "def remove_if_in_list(list1,x):\n",
    "    if x in list1:\n",
    "        list1.remove(x)\n",
    "        return(list1)\n",
    "    else:\n",
    "        return(list1)\n",
    "        \n",
    "list1=[1,2,3,4]\n",
    "x=3\n",
    "\n",
    "print(remove_if_in_list(list1,x))"
   ]
  },
  {
   "cell_type": "code",
   "execution_count": 13,
   "metadata": {},
   "outputs": [
    {
     "name": "stdout",
     "output_type": "stream",
     "text": [
      "[2, 3]\n"
     ]
    }
   ],
   "source": [
    "\n",
    "# define your functi\n",
    "def remove_elem_at_zero(list1):\n",
    "    del list1[0]\n",
    "    return(list1)\n",
    "    \n",
    "list1=[1,2,3]\n",
    "print(remove_elem_at_zero(list1))"
   ]
  },
  {
   "cell_type": "code",
   "execution_count": 14,
   "metadata": {},
   "outputs": [
    {
     "name": "stdout",
     "output_type": "stream",
     "text": [
      "934\n"
     ]
    }
   ],
   "source": [
    "list_to_sum = [112, 115, 276, 431]\n",
    "print(sum(list_to_sum))"
   ]
  },
  {
   "cell_type": "code",
   "execution_count": 15,
   "metadata": {},
   "outputs": [
    {
     "name": "stdout",
     "output_type": "stream",
     "text": [
      "58.50000000000001\n"
     ]
    }
   ],
   "source": [
    "daily_temps = [61.2, 59.0, 59.4, 58.9, 60.1, 55.3, 55.6]\n",
    "mean=sum(daily_temps)/len(daily_temps)\n",
    "print(mean)"
   ]
  },
  {
   "cell_type": "code",
   "execution_count": 16,
   "metadata": {},
   "outputs": [
    {
     "name": "stdout",
     "output_type": "stream",
     "text": [
      "[1, 2, 5, 7, 19]\n",
      "[5, 7, 2, 19, 1]\n"
     ]
    }
   ],
   "source": [
    "numbers = [5, 7, 2, 19, 1]\n",
    "newly_sorted = sorted(numbers)\n",
    "\n",
    "# newly sorted list\n",
    "print(newly_sorted)\n",
    "# original list, not affected\n",
    "print(numbers)"
   ]
  },
  {
   "cell_type": "code",
   "execution_count": 19,
   "metadata": {},
   "outputs": [
    {
     "name": "stdout",
     "output_type": "stream",
     "text": [
      "[1, 2, 5, 7, 19]\n",
      "[5, 7, 2, 19, 1]\n"
     ]
    }
   ],
   "source": [
    "numbers = [5, 7, 2, 19, 1]\n",
    "newly_sorted = sorted(numbers,reverse=True)\n",
    "\n",
    "# newly sorted list\n",
    "print(newly_sorted)\n",
    "# original list, not affected\n",
    "print(numbers)"
   ]
  },
  {
   "cell_type": "code",
   "execution_count": 32,
   "metadata": {},
   "outputs": [
    {
     "name": "stdout",
     "output_type": "stream",
     "text": [
      "[2, 5, 6, 7, 9]\n"
     ]
    }
   ],
   "source": [
    "num=[2,5,6,7,9]\n",
    "print(num)"
   ]
  },
  {
   "cell_type": "code",
   "execution_count": 36,
   "metadata": {},
   "outputs": [
    {
     "ename": "TypeError",
     "evalue": "'list' object is not callable",
     "output_type": "error",
     "traceback": [
      "\u001b[1;31m---------------------------------------------------------------------------\u001b[0m",
      "\u001b[1;31mTypeError\u001b[0m                                 Traceback (most recent call last)",
      "\u001b[1;32m<ipython-input-36-fcb50668c0e6>\u001b[0m in \u001b[0;36m<module>\u001b[1;34m\u001b[0m\n\u001b[0;32m      1\u001b[0m \u001b[0mnew\u001b[0m\u001b[1;33m=\u001b[0m\u001b[0mreversed\u001b[0m\u001b[1;33m(\u001b[0m\u001b[0mnum\u001b[0m\u001b[1;33m)\u001b[0m\u001b[1;33m\u001b[0m\u001b[1;33m\u001b[0m\u001b[0m\n\u001b[1;32m----> 2\u001b[1;33m \u001b[0mprint\u001b[0m\u001b[1;33m(\u001b[0m\u001b[0mlist\u001b[0m\u001b[1;33m(\u001b[0m\u001b[0mnew\u001b[0m\u001b[1;33m)\u001b[0m\u001b[1;33m)\u001b[0m\u001b[1;33m\u001b[0m\u001b[1;33m\u001b[0m\u001b[0m\n\u001b[0m",
      "\u001b[1;31mTypeError\u001b[0m: 'list' object is not callable"
     ]
    }
   ],
   "source": [
    "\n",
    "new=reversed(num)\n",
    "print(list(new))"
   ]
  },
  {
   "cell_type": "code",
   "execution_count": 38,
   "metadata": {},
   "outputs": [
    {
     "name": "stdout",
     "output_type": "stream",
     "text": [
      "<list_reverseiterator object at 0x00000229E400AE88>\n"
     ]
    },
    {
     "ename": "TypeError",
     "evalue": "'list' object is not callable",
     "output_type": "error",
     "traceback": [
      "\u001b[1;31m---------------------------------------------------------------------------\u001b[0m",
      "\u001b[1;31mTypeError\u001b[0m                                 Traceback (most recent call last)",
      "\u001b[1;32m<ipython-input-38-1de5c7c5134e>\u001b[0m in \u001b[0;36m<module>\u001b[1;34m\u001b[0m\n\u001b[0;32m      5\u001b[0m \u001b[0mprint\u001b[0m\u001b[1;33m(\u001b[0m\u001b[0mnewly_reversed\u001b[0m\u001b[1;33m)\u001b[0m\u001b[1;33m\u001b[0m\u001b[1;33m\u001b[0m\u001b[0m\n\u001b[0;32m      6\u001b[0m \u001b[1;31m# newly reversed iterable, cast as a list\u001b[0m\u001b[1;33m\u001b[0m\u001b[1;33m\u001b[0m\u001b[1;33m\u001b[0m\u001b[0m\n\u001b[1;32m----> 7\u001b[1;33m \u001b[0mnewly_reversed\u001b[0m\u001b[1;33m=\u001b[0m\u001b[0mlist\u001b[0m\u001b[1;33m(\u001b[0m\u001b[0mnewly_reversed\u001b[0m\u001b[1;33m)\u001b[0m\u001b[1;33m\u001b[0m\u001b[1;33m\u001b[0m\u001b[0m\n\u001b[0m\u001b[0;32m      8\u001b[0m \u001b[0mprint\u001b[0m\u001b[1;33m(\u001b[0m\u001b[0mnewly_reversed\u001b[0m\u001b[1;33m)\u001b[0m\u001b[1;33m\u001b[0m\u001b[1;33m\u001b[0m\u001b[0m\n\u001b[0;32m      9\u001b[0m \u001b[1;31m# original list, not affected\u001b[0m\u001b[1;33m\u001b[0m\u001b[1;33m\u001b[0m\u001b[1;33m\u001b[0m\u001b[0m\n",
      "\u001b[1;31mTypeError\u001b[0m: 'list' object is not callable"
     ]
    }
   ],
   "source": [
    "numbers = [1, 2, 3, 4]\n",
    "newly_reversed = reversed(numbers)\n",
    "\n",
    "# newly reversed iterable\n",
    "print(newly_reversed)\n",
    "# newly reversed iterable, cast as a list\n",
    "newly_reversed=list(newly_reversed)\n",
    "print(newly_reversed)\n",
    "# original list, not affected\n",
    "print(numbers)"
   ]
  },
  {
   "cell_type": "code",
   "execution_count": 39,
   "metadata": {},
   "outputs": [
    {
     "name": "stdout",
     "output_type": "stream",
     "text": [
      "[5, 4, 9, 3, 1, 0]\n"
     ]
    }
   ],
   "source": [
    "lst = [5, 4, 9, 3, 1, 0]\n",
    "sorted(lst)\n",
    "print(lst)"
   ]
  },
  {
   "cell_type": "code",
   "execution_count": 40,
   "metadata": {},
   "outputs": [
    {
     "name": "stdout",
     "output_type": "stream",
     "text": [
      "False\n"
     ]
    },
    {
     "ename": "TypeError",
     "evalue": "'list' object is not callable",
     "output_type": "error",
     "traceback": [
      "\u001b[1;31m---------------------------------------------------------------------------\u001b[0m",
      "\u001b[1;31mTypeError\u001b[0m                                 Traceback (most recent call last)",
      "\u001b[1;32m<ipython-input-40-4019a8552eb9>\u001b[0m in \u001b[0;36m<module>\u001b[1;34m\u001b[0m\n\u001b[0;32m      5\u001b[0m \u001b[0mn\u001b[0m \u001b[1;33m=\u001b[0m \u001b[1;36m20\u001b[0m\u001b[1;33m\u001b[0m\u001b[1;33m\u001b[0m\u001b[0m\n\u001b[0;32m      6\u001b[0m \u001b[1;33m\u001b[0m\u001b[0m\n\u001b[1;32m----> 7\u001b[1;33m \u001b[0mnum_list\u001b[0m \u001b[1;33m=\u001b[0m \u001b[0mlist\u001b[0m\u001b[1;33m(\u001b[0m\u001b[0mrange\u001b[0m\u001b[1;33m(\u001b[0m\u001b[0ma\u001b[0m\u001b[1;33m,\u001b[0m \u001b[0mn\u001b[0m\u001b[1;33m)\u001b[0m\u001b[1;33m)\u001b[0m\u001b[1;33m\u001b[0m\u001b[1;33m\u001b[0m\u001b[0m\n\u001b[0m\u001b[0;32m      8\u001b[0m \u001b[0mprint\u001b[0m\u001b[1;33m(\u001b[0m\u001b[0mall\u001b[0m\u001b[1;33m(\u001b[0m\u001b[0mnum_list\u001b[0m\u001b[1;33m)\u001b[0m\u001b[1;33m)\u001b[0m\u001b[1;33m\u001b[0m\u001b[1;33m\u001b[0m\u001b[0m\n\u001b[0;32m      9\u001b[0m \u001b[1;33m\u001b[0m\u001b[0m\n",
      "\u001b[1;31mTypeError\u001b[0m: 'list' object is not callable"
     ]
    }
   ],
   "source": [
    "bool_list = [True, False, True, True, False]\n",
    "print(all(bool_list))\n",
    "\n",
    "a = 10\n",
    "n = 20\n",
    "\n",
    "num_list = list(range(a, n))\n",
    "print(all(num_list))\n",
    "\n",
    "num_list[0] = 0\n",
    "print(all(num_list))"
   ]
  },
  {
   "cell_type": "code",
   "execution_count": 41,
   "metadata": {},
   "outputs": [
    {
     "name": "stdout",
     "output_type": "stream",
     "text": [
      "True\n"
     ]
    }
   ],
   "source": [
    "str_list = ['a', 'b', 'c', '']\n",
    "print(any(str_list))"
   ]
  },
  {
   "cell_type": "code",
   "execution_count": 2,
   "metadata": {},
   "outputs": [
    {
     "name": "stdout",
     "output_type": "stream",
     "text": [
      "[1, 2]\n",
      "4\n"
     ]
    }
   ],
   "source": [
    "numbers = [1, 2, 3, 4]\n",
    "removed_number = numbers.pop()\n",
    "numbers.pop()\n",
    "\n",
    "print(numbers)\n",
    "print(removed_number)"
   ]
  },
  {
   "cell_type": "code",
   "execution_count": 5,
   "metadata": {},
   "outputs": [
    {
     "name": "stdout",
     "output_type": "stream",
     "text": [
      "[10, 11, 12, 13, 14, 15, 16, 17, 18, 19]\n",
      "[19, 18, 17, 16, 15, 14, 13, 12, 11, 10]\n"
     ]
    }
   ],
   "source": [
    "a = 10\n",
    "n = 20\n",
    "\n",
    "num_list = list(range(a, n))\n",
    "\n",
    "print(num_list)\n",
    "\n",
    "num_list.reverse()\n",
    "print(num_list)"
   ]
  },
  {
   "cell_type": "code",
   "execution_count": 6,
   "metadata": {},
   "outputs": [
    {
     "name": "stdout",
     "output_type": "stream",
     "text": [
      "[9, 7, 8, 3, 5, 1, 2]\n",
      "[2, 1, 5, 3, 8, 7, 9]\n"
     ]
    }
   ],
   "source": [
    "nums_list = [9, 7, 8, 3, 5, 1, 2]\n",
    "reversed(list(nums_list))\n",
    "print(nums_list)\n",
    "nums_list.reverse()\n",
    "print(nums_list)"
   ]
  },
  {
   "cell_type": "code",
   "execution_count": 11,
   "metadata": {},
   "outputs": [
    {
     "ename": "TypeError",
     "evalue": "sort() takes no positional arguments",
     "output_type": "error",
     "traceback": [
      "\u001b[1;31m---------------------------------------------------------------------------\u001b[0m",
      "\u001b[1;31mTypeError\u001b[0m                                 Traceback (most recent call last)",
      "\u001b[1;32m<ipython-input-11-a6b8a2972dea>\u001b[0m in \u001b[0;36m<module>\u001b[1;34m\u001b[0m\n\u001b[0;32m     28\u001b[0m \u001b[1;33m\u001b[0m\u001b[0m\n\u001b[0;32m     29\u001b[0m \u001b[1;31m# leave this line alone\u001b[0m\u001b[1;33m\u001b[0m\u001b[1;33m\u001b[0m\u001b[1;33m\u001b[0m\u001b[0m\n\u001b[1;32m---> 30\u001b[1;33m \u001b[0mresult\u001b[0m \u001b[1;33m=\u001b[0m \u001b[0msort_and_test\u001b[0m\u001b[1;33m(\u001b[0m\u001b[0mx\u001b[0m\u001b[1;33m,\u001b[0m \u001b[0my\u001b[0m\u001b[1;33m)\u001b[0m\u001b[1;33m\u001b[0m\u001b[1;33m\u001b[0m\u001b[0m\n\u001b[0m\u001b[0;32m     31\u001b[0m \u001b[0mprint\u001b[0m\u001b[1;33m(\u001b[0m\u001b[0mresult\u001b[0m\u001b[1;33m)\u001b[0m\u001b[1;33m\u001b[0m\u001b[1;33m\u001b[0m\u001b[0m\n",
      "\u001b[1;32m<ipython-input-11-a6b8a2972dea>\u001b[0m in \u001b[0;36msort_and_test\u001b[1;34m(list_1, list_2)\u001b[0m\n\u001b[0;32m     20\u001b[0m \u001b[1;33m\u001b[0m\u001b[0m\n\u001b[0;32m     21\u001b[0m     '''\n\u001b[1;32m---> 22\u001b[1;33m     \u001b[0mlist_1\u001b[0m\u001b[1;33m.\u001b[0m\u001b[0msort\u001b[0m\u001b[1;33m(\u001b[0m\u001b[1;32mFalse\u001b[0m\u001b[1;33m)\u001b[0m\u001b[1;33m\u001b[0m\u001b[1;33m\u001b[0m\u001b[0m\n\u001b[0m\u001b[0;32m     23\u001b[0m     \u001b[1;32mif\u001b[0m\u001b[1;33m(\u001b[0m\u001b[0mlist_1\u001b[0m\u001b[1;33m==\u001b[0m\u001b[0mlist_2\u001b[0m\u001b[1;33m)\u001b[0m\u001b[1;33m:\u001b[0m\u001b[1;33m\u001b[0m\u001b[1;33m\u001b[0m\u001b[0m\n\u001b[0;32m     24\u001b[0m         \u001b[1;32mreturn\u001b[0m\u001b[1;33m(\u001b[0m\u001b[1;32mTrue\u001b[0m\u001b[1;33m)\u001b[0m\u001b[1;33m\u001b[0m\u001b[1;33m\u001b[0m\u001b[0m\n",
      "\u001b[1;31mTypeError\u001b[0m: sort() takes no positional arguments"
     ]
    }
   ],
   "source": [
    "# leave these two lines alone\n",
    "x = [10, 9, 8, 7, 6, 5]\n",
    "y = list(range(5, 11))\n",
    "\n",
    "# replace `pass` with the necessary logic\n",
    "def sort_and_test(list_1, list_2):\n",
    "    '''\n",
    "    Tests whether the sorted version of one list is equal to another list.\n",
    "\n",
    "    Parameters:\n",
    "    ----------\n",
    "    list_1 : (list)\n",
    "        A list to be sorted.\n",
    "    list_2 : (list)\n",
    "        The list to be compared.\n",
    "\n",
    "    Returns\n",
    "    ----------\n",
    "    Bool : (True or False)\n",
    "    \n",
    "    '''\n",
    "    list_1.sort(Reverse)\n",
    "    if(list_1==list_2):\n",
    "        return(True)\n",
    "    else:\n",
    "        return(False)\n",
    "\n",
    "\n",
    "# leave this line alone\n",
    "result = sort_and_test(x, y)\n",
    "print(result)"
   ]
  },
  {
   "cell_type": "code",
   "execution_count": 12,
   "metadata": {},
   "outputs": [
    {
     "name": "stdout",
     "output_type": "stream",
     "text": [
      "2\n",
      "1\n"
     ]
    }
   ],
   "source": [
    "nums_list = [1, 5, 6, 7, 7, 3, 4, 1, 2]\n",
    "print(nums_list.count(7))\n",
    "print(nums_list.count(5))"
   ]
  },
  {
   "cell_type": "code",
   "execution_count": 16,
   "metadata": {},
   "outputs": [
    {
     "name": "stdout",
     "output_type": "stream",
     "text": [
      "[1, 2, 4, 4, 6, 7, 22, 22, 22, 22, 23, 88] <list_reverseiterator object at 0x000001FDCE410788> 22 4\n"
     ]
    }
   ],
   "source": [
    "def here_we_go(list_1):\n",
    "    '''\n",
    "    Takes in a list, tosses it around a bit, and returns some outputs of some cool list operations.\n",
    "\n",
    "    Parameters:\n",
    "    ----------\n",
    "    list_1 : (list)\n",
    "        A list\n",
    "\n",
    "    Returns\n",
    "    ----------\n",
    "\n",
    "        1. The sorted version of the `list`.\n",
    "        2. The reversed version of the `list`.\n",
    "        3. The last element of the reversed `list` (without removing it from the `list`).\n",
    "        4. The number of times that the number 22 occurs in the `list`.\n",
    "\n",
    "    '''\n",
    "    list2=[]\n",
    "    sorted_copy=sorted(list_1)\n",
    "    list2.append(sorted_copy)\n",
    "    reversed_copy=reversed(list_1)\n",
    "    list2.append(reversed_copy)\n",
    "    l=len(list_1)\n",
    "    last_element=list_1[l-1]\n",
    "    list2.append(last_element)\n",
    "    count_22=list_1.count(22)\n",
    "    list2.append(count_22)\n",
    "    return(list2)\n",
    "\n",
    "# use x as the input to your function\n",
    "x = [22, 23, 4, 1, 22, 4, 6, 22, 2, 7, 88, 22]\n",
    "\n",
    "# call (and unpack) your function her\n",
    "sorted_copy,reversed_copy,last_element,count_22=here_we_go(x)\n",
    "print(sorted_copy,reversed_copy,last_element,count_22)"
   ]
  },
  {
   "cell_type": "code",
   "execution_count": 17,
   "metadata": {},
   "outputs": [
    {
     "name": "stdout",
     "output_type": "stream",
     "text": [
      "[1, 3, 5, 7, 9]\n"
     ]
    }
   ],
   "source": [
    "original_list = [1, 3, 5, 7, 9]\n",
    "new_list = original_list[:]\n",
    "original_list.pop()\n",
    "print(new_list)"
   ]
  },
  {
   "cell_type": "code",
   "execution_count": 19,
   "metadata": {},
   "outputs": [
    {
     "name": "stdout",
     "output_type": "stream",
     "text": [
      "1\n",
      "3\n",
      "5\n",
      "7\n",
      "9\n"
     ]
    }
   ],
   "source": [
    "for i in range(1, 11,2):\n",
    "  print(i)"
   ]
  },
  {
   "cell_type": "code",
   "execution_count": 20,
   "metadata": {},
   "outputs": [
    {
     "name": "stdout",
     "output_type": "stream",
     "text": [
      "0\n",
      "1\n",
      "4\n",
      "9\n",
      "16\n",
      "25\n",
      "36\n",
      "49\n",
      "64\n",
      "81\n",
      "100\n",
      "121\n",
      "144\n",
      "169\n",
      "196\n",
      "225\n",
      "256\n",
      "289\n",
      "324\n",
      "361\n",
      "400\n",
      "441\n",
      "484\n",
      "529\n",
      "576\n",
      "625\n",
      "676\n",
      "729\n",
      "784\n",
      "841\n",
      "900\n",
      "961\n",
      "1024\n",
      "1089\n",
      "1156\n",
      "1225\n",
      "1296\n",
      "1369\n",
      "1444\n",
      "1521\n",
      "1600\n",
      "1681\n",
      "1764\n",
      "1849\n",
      "1936\n",
      "2025\n",
      "2116\n",
      "2209\n",
      "2304\n",
      "2401\n",
      "2500\n",
      "2601\n",
      "2704\n",
      "2809\n",
      "2916\n",
      "3025\n",
      "3136\n",
      "3249\n",
      "3364\n",
      "3481\n",
      "3600\n",
      "3721\n",
      "3844\n",
      "3969\n",
      "4096\n",
      "4225\n",
      "4356\n",
      "4489\n",
      "4624\n",
      "4761\n",
      "4900\n",
      "5041\n",
      "5184\n",
      "5329\n",
      "5476\n",
      "5625\n",
      "5776\n",
      "5929\n",
      "6084\n",
      "6241\n",
      "6400\n",
      "6561\n",
      "6724\n",
      "6889\n",
      "7056\n",
      "7225\n",
      "7396\n",
      "7569\n",
      "7744\n",
      "7921\n",
      "8100\n",
      "8281\n",
      "8464\n",
      "8649\n",
      "8836\n",
      "9025\n",
      "9216\n",
      "9409\n",
      "9604\n",
      "9801\n"
     ]
    }
   ],
   "source": [
    "x = list(range(100))\n",
    "for i in x:\n",
    "    print(i ** 2)"
   ]
  },
  {
   "cell_type": "code",
   "execution_count": 1,
   "metadata": {},
   "outputs": [
    {
     "name": "stdout",
     "output_type": "stream",
     "text": [
      "1\n",
      "2\n",
      "3\n",
      "4\n",
      "5\n",
      "6\n",
      "7\n",
      "8\n",
      "9\n"
     ]
    }
   ],
   "source": [
    "nums = [[1, 2, 3], [4, 5, 6], [7, 8, 9]]\n",
    "for i in nums:\n",
    "  for j in i:\n",
    "    print(j)"
   ]
  },
  {
   "cell_type": "code",
   "execution_count": 2,
   "metadata": {},
   "outputs": [
    {
     "name": "stdout",
     "output_type": "stream",
     "text": [
      "1 4\n",
      "1 5\n",
      "1 6\n",
      "2 4\n",
      "2 5\n",
      "2 6\n",
      "3 4\n",
      "3 5\n",
      "3 6\n"
     ]
    }
   ],
   "source": [
    "list1 = [1, 2, 3]\n",
    "list2 = [4, 5, 6]\n",
    "\n",
    "for i in list1:\n",
    "  for j in list2:\n",
    "    print(i, j)"
   ]
  },
  {
   "cell_type": "code",
   "execution_count": 3,
   "metadata": {},
   "outputs": [
    {
     "name": "stdout",
     "output_type": "stream",
     "text": [
      "45\n"
     ]
    }
   ],
   "source": [
    "total = 0\n",
    "for i in range(10):\n",
    "    total += i\n",
    "\n",
    "print(total)"
   ]
  },
  {
   "cell_type": "code",
   "execution_count": 4,
   "metadata": {},
   "outputs": [
    {
     "name": "stdout",
     "output_type": "stream",
     "text": [
      "python is cool.\n"
     ]
    }
   ],
   "source": [
    "def accumulate(list_1):\n",
    "    '''\n",
    "    Returns an object that is the accumlated result of list_1.\n",
    "\n",
    "    Parameters:\n",
    "    ----------\n",
    "    list_1 : (list)\n",
    "        A list of strings.\n",
    "\n",
    "    Returns:\n",
    "    ----------\n",
    "        The accumulated version of the elements in the list.\n",
    "    '''\n",
    "    phrase = ''\n",
    "    for letter in list_1:\n",
    "        phrase = phrase + letter\n",
    "    return(phrase)\n",
    "\n",
    "\n",
    "# leave these lines alone\n",
    "x = ['python',' ','is',' ','cool', '.']\n",
    "result = accumulate(x)\n",
    "print(result)"
   ]
  },
  {
   "cell_type": "code",
   "execution_count": 5,
   "metadata": {},
   "outputs": [
    {
     "name": "stdout",
     "output_type": "stream",
     "text": [
      "i am student\n"
     ]
    }
   ],
   "source": [
    "def num(x):\n",
    "    objects=''\n",
    "    for i in x:\n",
    "        objects=objects+i\n",
    "        \n",
    "    return(objects)\n",
    "\n",
    "list1=['i',' ','am',' ','student']\n",
    "\n",
    "#result = num(list1)\n",
    "print(num(list1))"
   ]
  },
  {
   "cell_type": "code",
   "execution_count": 14,
   "metadata": {},
   "outputs": [
    {
     "name": "stdout",
     "output_type": "stream",
     "text": [
      "15\n"
     ]
    }
   ],
   "source": [
    "nums = [1, 2, 3, 4, 5]\n",
    "\n",
    "sum = 0\n",
    "for num in nums:\n",
    "  sum = sum + num\n",
    "\n",
    "print(sum)"
   ]
  },
  {
   "cell_type": "code",
   "execution_count": 7,
   "metadata": {},
   "outputs": [
    {
     "name": "stdout",
     "output_type": "stream",
     "text": [
      "11\n"
     ]
    }
   ],
   "source": [
    "a=5\n",
    "b=6\n",
    "c=a+b\n",
    "print(c)"
   ]
  },
  {
   "cell_type": "code",
   "execution_count": 12,
   "metadata": {},
   "outputs": [
    {
     "name": "stdout",
     "output_type": "stream",
     "text": [
      "abcd\n"
     ]
    }
   ],
   "source": [
    "mixed = [1, 'a', 2, 'b', 3, 'c', 4, 'd', 5]\n",
    "\n",
    "sum = ''\n",
    "for val in mixed:\n",
    "  if isinstance(val, str):\n",
    "    sum = sum + val\n",
    "\n",
    "print(sum)"
   ]
  },
  {
   "cell_type": "code",
   "execution_count": 16,
   "metadata": {},
   "outputs": [
    {
     "name": "stdout",
     "output_type": "stream",
     "text": [
      "True\n"
     ]
    }
   ],
   "source": [
    "list = [23, 42, 86, 92, 93, 94,45]\n",
    "\n",
    "has_value_over_90 = False\n",
    "for val in list:\n",
    "  if val > 90:\n",
    "    has_value_over_90 = True\n",
    "\n",
    "print(has_value_over_90)"
   ]
  },
  {
   "cell_type": "code",
   "execution_count": 17,
   "metadata": {},
   "outputs": [
    {
     "name": "stdout",
     "output_type": "stream",
     "text": [
      "1.0\n",
      "2.0\n",
      "6.0\n",
      "24.0\n",
      "120.0\n",
      "720.0\n",
      "5040.0\n",
      "40320.0\n",
      "40320.0\n"
     ]
    }
   ],
   "source": [
    "exit_condition = True\n",
    "x3 = 1.\n",
    "\n",
    "for i in range(1,20):\n",
    "    x3 *= i\n",
    "    print(x3)\n",
    "\n",
    "    if x3 > 10000:\n",
    "        exit_condition = False\n",
    "\n",
    "    if exit_condition == False:\n",
    "        break # exit current loop level\n",
    "\n",
    "print(x3)"
   ]
  },
  {
   "cell_type": "code",
   "execution_count": 22,
   "metadata": {},
   "outputs": [
    {
     "name": "stdout",
     "output_type": "stream",
     "text": [
      "11\n"
     ]
    }
   ],
   "source": [
    "your_list = range(-10, 5)\n",
    "my_list = range(15)\n",
    "\n",
    "if len(your_list) == len(my_list):\n",
    "\n",
    "    gt_zero = False\n",
    "\n",
    "    for i in range(len(my_list)):\n",
    "\n",
    "        total = your_list[i] * my_list[i]\n",
    "\n",
    "        if total > 0:\n",
    "            gt_zero = True\n",
    "\n",
    "        if gt_zero:\n",
    "            print(i)\n",
    "            break"
   ]
  },
  {
   "cell_type": "code",
   "execution_count": 23,
   "metadata": {},
   "outputs": [
    {
     "name": "stdout",
     "output_type": "stream",
     "text": [
      "[2, 4, 6]\n"
     ]
    }
   ],
   "source": [
    "lst = [1, 2, 3, 4, 5, 6]\n",
    "\n",
    "accumulator_list = []\n",
    "for idx,val in enumerate(lst):\n",
    "  if idx % 2 == 1:\n",
    "    accumulator_list.append(val)\n",
    "\n",
    "print(accumulator_list)"
   ]
  },
  {
   "cell_type": "code",
   "execution_count": 24,
   "metadata": {},
   "outputs": [
    {
     "name": "stdout",
     "output_type": "stream",
     "text": [
      "[30, 33, 36, 39, 42, 45, 48, 51, 54, 57]\n"
     ]
    }
   ],
   "source": [
    "accum = []\n",
    "\n",
    "for i in range(30, 60):\n",
    "    if i % 3 == 0:\n",
    "        accum.append(i)\n",
    "\n",
    "print(accum)"
   ]
  },
  {
   "cell_type": "code",
   "execution_count": 31,
   "metadata": {},
   "outputs": [
    {
     "name": "stdout",
     "output_type": "stream",
     "text": [
      "[0, 2, 4, 6, 8, 10, 12, 14, 16, 18, 20, 22, 24, 26, 28, 30, 32, 34, 36, 38, 40, 42, 44, 46, 48, 50, 52, 54, 56, 58, 60, 62, 64, 66, 68, 70, 72, 74, 76, 78, 80, 82, 84, 86, 88, 90, 92, 94, 96, 98, 100, 102, 104, 106, 108, 110, 112, 114, 116, 118, 120, 122, 124, 126, 128, 130, 132, 134, 136, 138, 140, 142, 144, 146, 148, 150, 152, 154, 156, 158, 160, 162, 164, 166, 168, 170, 172, 174, 176, 178, 180, 182, 184, 186, 188, 190, 192, 194, 196, 198, 200, 202, 204, 206, 208, 210, 212, 214, 216, 218, 220, 222, 224, 226, 228, 230, 232, 234, 236, 238, 240, 242, 244, 246, 248, 250, 252, 254, 256, 258, 260, 262, 264, 266, 268, 270, 272, 274, 276, 278, 280, 282, 284, 286, 288, 290, 292, 294, 296, 298, 300, 302, 304, 306, 308, 310, 312, 314, 316, 318, 320, 322, 324, 326, 328, 330, 332, 334, 336, 338, 340, 342, 344, 346, 348, 350, 352, 354, 356, 358, 360, 362, 364, 366, 368, 370, 372, 374, 376, 378, 380, 382, 384, 386, 388, 390, 392, 394, 396, 398, 400, 402, 404, 406, 408, 410, 412, 414, 416, 418, 420, 422, 424, 426, 428, 430, 432, 434, 436, 438, 440, 442, 444, 446, 448, 450, 452, 454, 456, 458, 460, 462, 464, 466, 468, 470, 472, 474, 476, 478, 480, 482, 484, 486, 488, 490, 492, 494, 496, 498, 500, 502, 504, 506, 508, 510, 512, 514, 516, 518, 520, 522, 524, 526, 528, 530, 532, 534, 536, 538, 540, 542, 544, 546, 548, 550, 552, 554, 556, 558, 560, 562, 564, 566, 568, 570, 572, 574, 576, 578, 580, 582, 584, 586, 588, 590, 592, 594, 596, 598, 600, 602, 604, 606, 608, 610, 612, 614, 616, 618, 620, 622, 624, 626, 628, 630, 632, 634, 636, 638, 640, 642, 644, 646, 648, 650, 652, 654, 656, 658, 660, 662, 664, 666, 668, 670, 672, 674, 676, 678, 680, 682, 684, 686, 688, 690, 692, 694, 696, 698, 700, 702, 704, 706, 708, 710, 712, 714, 716, 718, 720, 722, 724, 726, 728, 730, 732, 734, 736, 738, 740, 742, 744, 746, 748, 750, 752, 754, 756, 758, 760, 762, 764, 766, 768, 770, 772, 774, 776, 778, 780, 782, 784, 786, 788, 790, 792, 794, 796, 798, 800, 802, 804, 806, 808, 810, 812, 814, 816, 818, 820, 822, 824, 826, 828, 830, 832, 834, 836, 838, 840, 842, 844, 846, 848, 850, 852, 854, 856, 858, 860, 862, 864, 866, 868, 870, 872, 874, 876, 878, 880, 882, 884, 886, 888, 890, 892, 894, 896, 898, 900, 902, 904, 906, 908, 910, 912, 914, 916, 918, 920, 922, 924, 926, 928, 930, 932, 934, 936, 938, 940, 942, 944, 946, 948, 950, 952, 954, 956, 958, 960, 962, 964, 966, 968, 970, 972, 974, 976, 978, 980, 982, 984, 986, 988, 990, 992, 994, 996, 998, 1000]\n"
     ]
    }
   ],
   "source": [
    "# put your code here\n",
    "evens = [*range(0,1001,2)]\n",
    "odds = [*range(1,1001,2)]\n",
    "\n",
    "print(evens)"
   ]
  },
  {
   "cell_type": "code",
   "execution_count": 35,
   "metadata": {},
   "outputs": [
    {
     "name": "stdout",
     "output_type": "stream",
     "text": [
      "[105, 120, 135, 150, 165, 180, 195, 210, 225, 240, 255, 270, 285, 300, 315, 330, 345, 360, 375, 390, 405, 420, 435, 450, 465, 480, 495]\n"
     ]
    }
   ],
   "source": [
    "# put your code here\n",
    "num_accum=[]\n",
    "idx_accum=[]\n",
    "lst=[*range(100,501)]\n",
    "for idx,val in enumerate(lst):\n",
    "    if val%15==0:\n",
    "        num_accum.append(val)\n",
    "        idx_accum.append(idx)\n",
    "        \n",
    "print(num_accum)\n",
    "   "
   ]
  },
  {
   "cell_type": "code",
   "execution_count": 4,
   "metadata": {},
   "outputs": [
    {
     "name": "stdout",
     "output_type": "stream",
     "text": [
      "[1, 2, 3, 6]\n"
     ]
    }
   ],
   "source": [
    "def find_intersection(list1, list2):\n",
    "    '''\n",
    "    Returns the intersection of the two input lists.\n",
    "\n",
    "    Parameters:\n",
    "    ----------\n",
    "    list1 : (list)\n",
    "    list2 : (list)\n",
    "\n",
    "    Returns:\n",
    "    ----------\n",
    "    A list that contains the elements that are in both lists.\n",
    "    '''\n",
    "    \n",
    "    list3=[]\n",
    "    for i in list1:\n",
    "        for j in list2:\n",
    "            if(i==j):\n",
    "                list3.append(i)\n",
    "    return(list3)\n",
    "        \n",
    "list1=[1,2,3,4,5,6]\n",
    "list2=[2,3,6,7,9,1]\n",
    "\n",
    "print(find_intersection(list1,list2))"
   ]
  },
  {
   "cell_type": "code",
   "execution_count": 5,
   "metadata": {},
   "outputs": [
    {
     "name": "stdout",
     "output_type": "stream",
     "text": [
      "['word', 1, 2, 3, 4, 5, 43, 90.0]\n"
     ]
    }
   ],
   "source": [
    "mixed_list = ['word', [1,2,3,4,5], 43, 90.0]\n",
    "unpacked_list = []\n",
    "\n",
    "for item in mixed_list:\n",
    "\n",
    "    if type(item) == list:\n",
    "        for nested in item:\n",
    "            unpacked_list.append(nested)\n",
    "    else:\n",
    "        unpacked_list.append(item)\n",
    "\n",
    "print(unpacked_list)"
   ]
  },
  {
   "cell_type": "code",
   "execution_count": 6,
   "metadata": {},
   "outputs": [
    {
     "name": "stdout",
     "output_type": "stream",
     "text": [
      "bob 72\n",
      "3\n",
      "tom 68\n",
      "1\n",
      "don 63\n",
      "2\n",
      "larry 76\n",
      "23\n"
     ]
    }
   ],
   "source": [
    "list_of_names   = ['bob', 'tom', 'don', 'larry']\n",
    "list_of_heights = [  72 ,  68  ,  63  ,   76   ]\n",
    "how_many_cats   = [   3 ,   1  ,   2  ,   23   ]\n",
    "\n",
    "for i, name in enumerate(list_of_names):\n",
    "    print(name, list_of_heights[i])\n",
    "    print(how_many_cats[i])"
   ]
  },
  {
   "cell_type": "code",
   "execution_count": 7,
   "metadata": {},
   "outputs": [
    {
     "name": "stdout",
     "output_type": "stream",
     "text": [
      "0\n",
      "1\n",
      "2\n",
      "3\n",
      "4\n",
      "5\n",
      "6\n",
      "7\n",
      "8\n",
      "9\n"
     ]
    }
   ],
   "source": [
    "for i in range(20):\n",
    "    if i >= 10:\n",
    "        continue\n",
    "    else:\n",
    "        print(i)"
   ]
  },
  {
   "cell_type": "code",
   "execution_count": 12,
   "metadata": {},
   "outputs": [
    {
     "name": "stdout",
     "output_type": "stream",
     "text": [
      "False\n"
     ]
    }
   ],
   "source": [
    "def find_prime(list1):\n",
    "    '''\n",
    "    Finds all prime numbers within an input list and returns those primes\n",
    "    another list.\n",
    "\n",
    "    Parameters:\n",
    "    ----------\n",
    "    list1 : (list)\n",
    "        A list of integers.\n",
    "\n",
    "    Returns:\n",
    "    ----------\n",
    "    List of  all primes in list1 (if no primes are found, return the string\n",
    "    \"No prime found.\")\n",
    "    '''\n",
    "    list_prime=[]\n",
    "    prime = True\n",
    "\n",
    "    for some_int in list1:\n",
    "        prime = True\n",
    "        if some_int == 1:\n",
    "            return False\n",
    "        elif some_int == 2:\n",
    "            return True\n",
    "            list_prime.append(some_int)\n",
    "        else:\n",
    "            for num in range(2, some_int):\n",
    "                if some_int % num == 0:\n",
    "                    prime = False\n",
    "                    break\n",
    "                if prime==True:\n",
    "                    list_prime.append(some_int)\n",
    "    return(list_prime)\n",
    "\n",
    "list1=[1,2,3,4,5,6,7,8,955,1,2,3]\n",
    "print(find_prime(list1))"
   ]
  },
  {
   "cell_type": "code",
   "execution_count": 1,
   "metadata": {},
   "outputs": [
    {
     "ename": "NameError",
     "evalue": "name 'nums' is not defined",
     "output_type": "error",
     "traceback": [
      "\u001b[1;31m---------------------------------------------------------------------------\u001b[0m",
      "\u001b[1;31mNameError\u001b[0m                                 Traceback (most recent call last)",
      "\u001b[1;32m<ipython-input-1-c6cf50238577>\u001b[0m in \u001b[0;36m<module>\u001b[1;34m\u001b[0m\n\u001b[0;32m      1\u001b[0m \u001b[0mi\u001b[0m \u001b[1;33m=\u001b[0m \u001b[1;36m0\u001b[0m\u001b[1;33m\u001b[0m\u001b[1;33m\u001b[0m\u001b[0m\n\u001b[1;32m----> 2\u001b[1;33m \u001b[0mprint\u001b[0m\u001b[1;33m(\u001b[0m\u001b[0mnums\u001b[0m\u001b[1;33m[\u001b[0m\u001b[0mi\u001b[0m\u001b[1;33m]\u001b[0m\u001b[1;33m)\u001b[0m\u001b[1;33m\u001b[0m\u001b[1;33m\u001b[0m\u001b[0m\n\u001b[0m\u001b[0;32m      3\u001b[0m \u001b[0mi\u001b[0m \u001b[1;33m+=\u001b[0m\u001b[1;36m1\u001b[0m\u001b[1;33m\u001b[0m\u001b[1;33m\u001b[0m\u001b[0m\n\u001b[0;32m      4\u001b[0m \u001b[0mprint\u001b[0m\u001b[1;33m(\u001b[0m\u001b[0mnums\u001b[0m\u001b[1;33m[\u001b[0m\u001b[0mi\u001b[0m\u001b[1;33m]\u001b[0m\u001b[1;33m)\u001b[0m\u001b[1;33m\u001b[0m\u001b[1;33m\u001b[0m\u001b[0m\n\u001b[0;32m      5\u001b[0m \u001b[0mi\u001b[0m \u001b[1;33m+=\u001b[0m\u001b[1;36m1\u001b[0m\u001b[1;33m\u001b[0m\u001b[1;33m\u001b[0m\u001b[0m\n",
      "\u001b[1;31mNameError\u001b[0m: name 'nums' is not defined"
     ]
    }
   ],
   "source": [
    "i = 0\n",
    "print(nums[i])\n",
    "i +=1\n",
    "print(nums[i])\n",
    "i +=1\n",
    "print(nums[i])\n",
    "i +=1\n",
    "print(nums[i])\n",
    "i +=1\n",
    "print(nums[i])\n",
    "i +=1\n",
    "print(nums[i])\n",
    "i +=1\n",
    "print(nums[i])\n",
    "i +=1\n",
    "print(nums[i])\n",
    "i +=1\n",
    "print(nums[i])\n",
    "i +=1\n",
    "print(nums[i])\n",
    "\n"
   ]
  },
  {
   "cell_type": "code",
   "execution_count": 2,
   "metadata": {},
   "outputs": [
    {
     "name": "stdout",
     "output_type": "stream",
     "text": [
      "0\n",
      "1\n",
      "2\n",
      "3\n",
      "4\n",
      "5\n",
      "6\n",
      "7\n",
      "8\n",
      "9\n"
     ]
    }
   ],
   "source": [
    "for i in range(10):\n",
    "    print(i)"
   ]
  },
  {
   "cell_type": "code",
   "execution_count": 4,
   "metadata": {},
   "outputs": [
    {
     "name": "stdout",
     "output_type": "stream",
     "text": [
      "2\n",
      "4\n",
      "6\n",
      "8\n",
      "10\n"
     ]
    }
   ],
   "source": [
    "number_list = [1, 3, 5, 7, 9]\n",
    "for i in number_list:\n",
    "  print(i+1)"
   ]
  },
  {
   "cell_type": "code",
   "execution_count": 5,
   "metadata": {},
   "outputs": [
    {
     "name": "stdout",
     "output_type": "stream",
     "text": [
      "0\n",
      "1\n",
      "4\n",
      "9\n",
      "16\n",
      "25\n",
      "36\n",
      "49\n",
      "64\n",
      "81\n",
      "100\n",
      "121\n",
      "144\n",
      "169\n",
      "196\n",
      "225\n",
      "256\n",
      "289\n",
      "324\n",
      "361\n",
      "400\n",
      "441\n",
      "484\n",
      "529\n",
      "576\n",
      "625\n",
      "676\n",
      "729\n",
      "784\n",
      "841\n",
      "900\n",
      "961\n",
      "1024\n",
      "1089\n",
      "1156\n",
      "1225\n",
      "1296\n",
      "1369\n",
      "1444\n",
      "1521\n",
      "1600\n",
      "1681\n",
      "1764\n",
      "1849\n",
      "1936\n",
      "2025\n",
      "2116\n",
      "2209\n",
      "2304\n",
      "2401\n",
      "2500\n",
      "2601\n",
      "2704\n",
      "2809\n",
      "2916\n",
      "3025\n",
      "3136\n",
      "3249\n",
      "3364\n",
      "3481\n",
      "3600\n",
      "3721\n",
      "3844\n",
      "3969\n",
      "4096\n",
      "4225\n",
      "4356\n",
      "4489\n",
      "4624\n",
      "4761\n",
      "4900\n",
      "5041\n",
      "5184\n",
      "5329\n",
      "5476\n",
      "5625\n",
      "5776\n",
      "5929\n",
      "6084\n",
      "6241\n",
      "6400\n",
      "6561\n",
      "6724\n",
      "6889\n",
      "7056\n",
      "7225\n",
      "7396\n",
      "7569\n",
      "7744\n",
      "7921\n",
      "8100\n",
      "8281\n",
      "8464\n",
      "8649\n",
      "8836\n",
      "9025\n",
      "9216\n",
      "9409\n",
      "9604\n",
      "9801\n"
     ]
    }
   ],
   "source": [
    "x = list(range(100))\n",
    "for i in x:\n",
    "    print(i ** 2)"
   ]
  },
  {
   "cell_type": "code",
   "execution_count": 6,
   "metadata": {},
   "outputs": [
    {
     "name": "stdout",
     "output_type": "stream",
     "text": [
      "1\n",
      "2\n",
      "3\n",
      "4\n",
      "5\n",
      "6\n",
      "7\n",
      "8\n",
      "9\n"
     ]
    }
   ],
   "source": [
    "nums = [[1, 2, 3], [4, 5, 6], [7, 8, 9]]\n",
    "for i in nums:\n",
    "  for j in i:\n",
    "    print(j)"
   ]
  },
  {
   "cell_type": "code",
   "execution_count": 2,
   "metadata": {},
   "outputs": [
    {
     "name": "stdout",
     "output_type": "stream",
     "text": [
      "0\n",
      "1\n",
      "2\n",
      "3\n",
      "4\n",
      "5\n"
     ]
    }
   ],
   "source": [
    "# this for loop will exit after 50\n",
    "for num in range(100):\n",
    "    print(num)\n",
    "\n",
    "    if num == 5:\n",
    "        break"
   ]
  },
  {
   "cell_type": "code",
   "execution_count": 3,
   "metadata": {},
   "outputs": [
    {
     "name": "stdout",
     "output_type": "stream",
     "text": [
      "0\n",
      "1\n",
      "2\n",
      "3\n",
      "4\n"
     ]
    }
   ],
   "source": [
    "# this for loop will exit after 50\n",
    "for num in range(100):\n",
    "\n",
    "    if num == 5:\n",
    "        break\n",
    "    print(num)"
   ]
  },
  {
   "cell_type": "code",
   "execution_count": 4,
   "metadata": {},
   "outputs": [
    {
     "name": "stdout",
     "output_type": "stream",
     "text": [
      "[2, 3, 5, 6, 7, 8, 10, 11, 12, 13, 14, 15, 17, 18, 19, 20, 21, 22, 23, 24, 26, 27, 28, 29, 30, 31, 32, 33, 34, 35, 37, 38, 39, 40, 41, 42, 43, 44, 45, 46, 47, 48, 50, 51, 52, 53, 54, 55, 56, 57, 58, 59, 60, 61, 62, 63, 65, 66, 67, 68, 69, 70, 71, 72, 73, 74, 75, 76, 77, 78, 79, 80, 82, 83, 84, 85, 86, 87, 88, 89, 90, 91, 92, 93, 94, 95, 96, 97, 98, 99]\n"
     ]
    }
   ],
   "source": [
    "not_squares = []\n",
    "\n",
    "def is_square(num):\n",
    "    for i in range(2,num):\n",
    "        if i**2 == num:\n",
    "            return True\n",
    "        if i**2 > num:\n",
    "            break\n",
    "\n",
    "    return False\n",
    "\n",
    "\n",
    "for i in range(2, 101):\n",
    "    if is_square(i) == True:\n",
    "        continue\n",
    "    not_squares.append(i)\n",
    "\n",
    "print(not_squares)"
   ]
  },
  {
   "cell_type": "code",
   "execution_count": 9,
   "metadata": {},
   "outputs": [
    {
     "name": "stdout",
     "output_type": "stream",
     "text": [
      "0\n",
      "1\n",
      "2\n",
      "3\n",
      "4\n"
     ]
    }
   ],
   "source": [
    "num=5\n",
    "for i in range(num):\n",
    "    print(i)\n",
    "    if i==3:\n",
    "        continue"
   ]
  },
  {
   "cell_type": "code",
   "execution_count": 10,
   "metadata": {},
   "outputs": [
    {
     "name": "stdout",
     "output_type": "stream",
     "text": [
      "0\n",
      "1\n",
      "2\n",
      "4\n"
     ]
    }
   ],
   "source": [
    "num=5\n",
    "for i in range(num):\n",
    "   \n",
    "    if i==3:\n",
    "        continue\n",
    "    print(i)"
   ]
  },
  {
   "cell_type": "code",
   "execution_count": 12,
   "metadata": {},
   "outputs": [],
   "source": [
    "def grow_up():\n",
    "    pass\n",
    "\n",
    "def get_enough_sleep():\n",
    "    pass\n",
    "\n",
    "def do_the_dishes():\n",
    "    pass\n",
    "\n",
    "for i in range(20):\n",
    "    # this will do nothing\n",
    "    pass\n",
    "\n",
    "if 'dog' == 'dog':\n",
    "    pass\n",
    "else:\n",
    "    print('this will never execute')"
   ]
  },
  {
   "cell_type": "code",
   "execution_count": 13,
   "metadata": {},
   "outputs": [
    {
     "name": "stdout",
     "output_type": "stream",
     "text": [
      "2\n",
      "2\n",
      "2\n",
      "2\n",
      "2\n",
      "2\n",
      "2\n",
      "2\n",
      "2\n",
      "2\n",
      "2\n",
      "2\n",
      "2\n",
      "2\n",
      "2\n",
      "2\n",
      "2\n",
      "2\n",
      "2\n",
      "2\n",
      "2\n",
      "2\n"
     ]
    }
   ],
   "source": [
    "# define a counter\n",
    "loops = 0\n",
    "\n",
    "# notice that setting x to 2 will allow entrance into the while\n",
    "x = 2\n",
    "\n",
    "# put the counter in the `while` to avoid an infinite loop\n",
    "while x < 3:\n",
    "    print(x)\n",
    "\n",
    "    # this condition will ensure that the while exits\n",
    "    if loops > 20:\n",
    "        break\n",
    "\n",
    "    # make sure to increment the loops variable\n",
    "    loops += 1"
   ]
  },
  {
   "cell_type": "code",
   "execution_count": 16,
   "metadata": {},
   "outputs": [
    {
     "name": "stdout",
     "output_type": "stream",
     "text": [
      "Choose an item:\n",
      "              (1) broccoli\n",
      "              (2) carrots\n",
      "              (3) cabbage\n",
      "              choice:  2\n",
      "order more? y\n",
      "Choose an item:\n",
      "              (1) broccoli\n",
      "              (2) carrots\n",
      "              (3) cabbage\n",
      "              choice:  3\n",
      "order more? y\n",
      "Choose an item:\n",
      "              (1) broccoli\n",
      "              (2) carrots\n",
      "              (3) cabbage\n",
      "              choice:  3\n",
      "order more? n\n",
      "['carrots', 'cabbage', 'cabbage']\n"
     ]
    }
   ],
   "source": [
    "def get_menu_item():\n",
    "    menu = '''Choose an item:\n",
    "              (1) broccoli\n",
    "              (2) carrots\n",
    "              (3) cabbage\n",
    "              choice:  '''\n",
    "\n",
    "    choice = int(input(menu))\n",
    "    items = ['broccoli', 'carrots', 'cabbage']\n",
    "    return items[choice-1]\n",
    "\n",
    "orders = []\n",
    "\n",
    "cont = 'y'\n",
    "while cont == 'y':\n",
    "    orders.append(get_menu_item())\n",
    "\n",
    "    # order_max -= 1\n",
    "    cont = input('order more? ')\n",
    "\n",
    "print(orders)"
   ]
  },
  {
   "cell_type": "code",
   "execution_count": null,
   "metadata": {},
   "outputs": [],
   "source": [
    "# write your code here\n",
    "total = 0\n",
    "x = 0\n",
    "\n",
    "while x<=100:\n",
    "    if(x%10==0):\n",
    "        continue\n",
    "    total+=x\n",
    "    x=x+1\n",
    "    \n",
    "print(total)"
   ]
  },
  {
   "cell_type": "code",
   "execution_count": null,
   "metadata": {},
   "outputs": [],
   "source": [
    "# write your code here\n",
    "total = 0\n",
    "x = 100\n",
    "\n",
    "while x>=0:\n",
    "    if(x%10==0):\n",
    "        continue\n",
    "    total+=x\n",
    "    x-=1\n",
    "    \n",
    "print(total)"
   ]
  },
  {
   "cell_type": "code",
   "execution_count": 5,
   "metadata": {},
   "outputs": [
    {
     "ename": "IndentationError",
     "evalue": "unindent does not match any outer indentation level (<tokenize>, line 27)",
     "output_type": "error",
     "traceback": [
      "\u001b[1;36m  File \u001b[1;32m\"<tokenize>\"\u001b[1;36m, line \u001b[1;32m27\u001b[0m\n\u001b[1;33m    else:\u001b[0m\n\u001b[1;37m    ^\u001b[0m\n\u001b[1;31mIndentationError\u001b[0m\u001b[1;31m:\u001b[0m unindent does not match any outer indentation level\n"
     ]
    }
   ],
   "source": [
    "def find_prime(list1):\n",
    "    '''\n",
    "    Finds all prime numbers within an input list and returns those primes\n",
    "    another list.\n",
    "\n",
    "    Parameters:\n",
    "    ----------\n",
    "    list1 : (list)\n",
    "        A list of integers.\n",
    "\n",
    "    Returns:\n",
    "    ----------\n",
    "    List of  all primes in list1 (if no primes are found, return the string\n",
    "    \"No prime found.\")\n",
    "    '''\n",
    "    pass\n"
   ]
  },
  {
   "cell_type": "code",
   "execution_count": 1,
   "metadata": {},
   "outputs": [
    {
     "name": "stdout",
     "output_type": "stream",
     "text": [
      "False\n"
     ]
    }
   ],
   "source": [
    "def is_prime(some_int):\n",
    "    prime = True\n",
    "\n",
    "    if some_int == 1:\n",
    "        return False\n",
    "    elif some_int == 2:\n",
    "        return True\n",
    "    else:\n",
    "        for num in range(2, some_int):\n",
    "            if some_int % num == 0:\n",
    "                prime = False\n",
    "                break\n",
    "\n",
    "    return prime\n",
    "\n",
    "print(is_prime(12))"
   ]
  },
  {
   "cell_type": "markdown",
   "metadata": {},
   "source": [
    "11,   2,3,4,5,6,7,8,9,10\n",
    "\n",
    "12,   2,3,4,5,6,7,8,9,10,11"
   ]
  },
  {
   "cell_type": "code",
   "execution_count": 14,
   "metadata": {},
   "outputs": [
    {
     "name": "stdout",
     "output_type": "stream",
     "text": [
      "[2, 3, 5, 5, 5, 7, 7, 7, 7, 7]\n"
     ]
    }
   ],
   "source": [
    "def find_prime(list1):\n",
    "    '''\n",
    "    Finds all prime numbers within an input list and returns those primes\n",
    "    another list.\n",
    "\n",
    "    Parameters:\n",
    "    ----------\n",
    "    list1 : (list)\n",
    "        A list of integers.\n",
    "\n",
    "    Returns:\n",
    "    ----------\n",
    "    List of  all primes in list1 (if no primes are found, return the string\n",
    "    \"No prime found.\")\n",
    "    '''\n",
    "    \n",
    "    list_prime=[]\n",
    "    \n",
    "\n",
    "    for some_int in list1:\n",
    "        prime = True\n",
    "    \n",
    "        if some_int==1:\n",
    "            prime=False\n",
    "            \n",
    "        elif some_int == 2:\n",
    "            \n",
    "            list_prime.append(some_int)\n",
    "        else:\n",
    "            for num in range(2, some_int):\n",
    "                if some_int % num == 0:\n",
    "                    prime = False\n",
    "                    break\n",
    "                else:\n",
    "                    list_prime.append(some_int)\n",
    "                    break\n",
    "    if(len(list_prime)==0):\n",
    "        return(\"No prime found.\")\n",
    "    else:\n",
    "        return(list_prime)\n",
    "\n",
    "list1=[2, 3, 5, 5, 5, 7, 7, 7, 7, 7]\n",
    "print(find_prime(list1))"
   ]
  },
  {
   "cell_type": "code",
   "execution_count": 15,
   "metadata": {},
   "outputs": [
    {
     "name": "stdout",
     "output_type": "stream",
     "text": [
      "Choose an item:\n",
      "              (1) broccoli\n",
      "              (2) carrots\n",
      "              (3) cabbage\n",
      "              choice:  3\n",
      "order more? y\n",
      "Choose an item:\n",
      "              (1) broccoli\n",
      "              (2) carrots\n",
      "              (3) cabbage\n",
      "              choice:  1\n",
      "order more? n\n",
      "['cabbage', 'broccoli']\n"
     ]
    }
   ],
   "source": [
    "def get_menu_item():\n",
    "    menu = '''Choose an item:\n",
    "              (1) broccoli\n",
    "              (2) carrots\n",
    "              (3) cabbage\n",
    "              choice:  '''\n",
    "\n",
    "    choice = int(input(menu))\n",
    "    items = ['broccoli', 'carrots', 'cabbage']\n",
    "    return items[choice-1]\n",
    "\n",
    "orders = []\n",
    "\n",
    "cont = 'y'\n",
    "while cont == 'y':\n",
    "    orders.append(get_menu_item())\n",
    "\n",
    "    # order_max -= 1\n",
    "    cont = input('order more? ')\n",
    "\n",
    "print(orders)"
   ]
  },
  {
   "cell_type": "code",
   "execution_count": null,
   "metadata": {},
   "outputs": [],
   "source": [
    "# write your code here\n",
    "total = 0\n",
    "x = 100\n",
    "\n",
    "while x>=0:\n",
    "    if(x%10==0):\n",
    "        total=total\n",
    "    else:\n",
    "        total+=x\n",
    "        x-=1\n",
    "    \n",
    "print(total)"
   ]
  },
  {
   "cell_type": "code",
   "execution_count": null,
   "metadata": {},
   "outputs": [],
   "source": [
    "# write your code here\n",
    "def wondrous_test(n):\n",
    "    '''\n",
    "    If n is odd, triple it and add one. If n is even, take half of it. Repeat\n",
    "    this process until the number 1 is reached. Return a list of all numbers\n",
    "    that were iterated through.\n",
    "\n",
    "    Parameters:\n",
    "    ----------\n",
    "    n : (int)\n",
    "        A positive integer.\n",
    "\n",
    "    Returns:\n",
    "    ----------\n",
    "    (list) of integers\n",
    "    '''\n",
    "    list1=[]\n",
    "    \n",
    "    while(n>=1):\n",
    "        if(n%2==0):\n",
    "            list1.append(n/2)\n",
    "        else:\n",
    "            list1.append((n*n*n)+1)\n",
    "            \n",
    "    return(list1)\n",
    "    \n",
    "print(wondrous_test(3))"
   ]
  },
  {
   "cell_type": "code",
   "execution_count": 1,
   "metadata": {},
   "outputs": [
    {
     "name": "stdout",
     "output_type": "stream",
     "text": [
      "Select from this list:\n",
      "    1 : bread\n",
      "    2 : butter\n",
      "    3 : potatoes\n",
      "    4 : broccoli\n",
      "please make a selection, 1-4: 2\n",
      "would you like to place another order? (y/n)y\n",
      "Select from this list:\n",
      "    1 : bread\n",
      "    2 : butter\n",
      "    3 : potatoes\n",
      "    4 : broccoli\n",
      "please make a selection, 1-4: 6\n",
      "-- your selection was not understood --\n",
      "Select from this list:\n",
      "    1 : bread\n",
      "    2 : butter\n",
      "    3 : potatoes\n",
      "    4 : broccoli\n",
      "please make a selection, 1-4: 1\n",
      "would you like to place another order? (y/n)n\n",
      "Your order list: [2, 1]\n"
     ]
    }
   ],
   "source": [
    "selections = []\n",
    "another_order = True\n",
    "\n",
    "while another_order == True:\n",
    "    menu_string = '''Select from this list:\n",
    "    1 : bread\n",
    "    2 : butter\n",
    "    3 : potatoes\n",
    "    4 : broccoli'''\n",
    "\n",
    "    print(menu_string)\n",
    "\n",
    "    inp = int(input('please make a selection, 1-4: '))\n",
    "\n",
    "    if inp in [1,2,3,4]:\n",
    "        selections.append(inp)\n",
    "    else:\n",
    "        print('-- your selection was not understood --')\n",
    "        continue\n",
    "\n",
    "    inp2 = input('would you like to place another order? (y/n)')\n",
    "\n",
    "    if inp2 == 'y':\n",
    "        continue\n",
    "    else:\n",
    "        another_order = False\n",
    "\n",
    "\n",
    "print(f'Your order list: {selections}')"
   ]
  },
  {
   "cell_type": "code",
   "execution_count": 2,
   "metadata": {},
   "outputs": [
    {
     "name": "stdout",
     "output_type": "stream",
     "text": [
      "J\n",
      "o\n",
      "k\n",
      "e\n",
      "r\n"
     ]
    }
   ],
   "source": [
    "movie_title = \"Joker\"\n",
    "for letter in movie_title:\n",
    "    print(letter)"
   ]
  },
  {
   "cell_type": "code",
   "execution_count": 5,
   "metadata": {},
   "outputs": [
    {
     "name": "stdout",
     "output_type": "stream",
     "text": [
      "I don't want to use double quotes. I don't want to use double quotes.\n"
     ]
    }
   ],
   "source": [
    "x = 'I don\\'t want to use double quotes.'\n",
    "y = \"I don't want to use double quotes.\"\n",
    "print(x,y)"
   ]
  },
  {
   "cell_type": "code",
   "execution_count": 6,
   "metadata": {},
   "outputs": [
    {
     "name": "stdout",
     "output_type": "stream",
     "text": [
      "2+2=5\n"
     ]
    }
   ],
   "source": [
    "print(\"2+2=5\")"
   ]
  },
  {
   "cell_type": "code",
   "execution_count": 8,
   "metadata": {},
   "outputs": [
    {
     "name": "stdout",
     "output_type": "stream",
     "text": [
      "There are 3 bags of chips\n"
     ]
    }
   ],
   "source": [
    "num_bags = 3\n",
    "first_statement = 'There are '\n",
    "second_statement = ' bags of chips'\n",
    "\n",
    "print(first_statement + str(num_bags) + second_statement)"
   ]
  },
  {
   "cell_type": "code",
   "execution_count": 10,
   "metadata": {},
   "outputs": [
    {
     "ename": "NameError",
     "evalue": "name 'Trues' is not defined",
     "output_type": "error",
     "traceback": [
      "\u001b[1;31m---------------------------------------------------------------------------\u001b[0m",
      "\u001b[1;31mNameError\u001b[0m                                 Traceback (most recent call last)",
      "\u001b[1;32m<ipython-input-10-bd4eac6e9f6b>\u001b[0m in \u001b[0;36m<module>\u001b[1;34m\u001b[0m\n\u001b[1;32m----> 1\u001b[1;33m \u001b[0mprint\u001b[0m\u001b[1;33m(\u001b[0m\u001b[0mint\u001b[0m\u001b[1;33m(\u001b[0m\u001b[0mTrues\u001b[0m\u001b[1;33m)\u001b[0m\u001b[1;33m)\u001b[0m\u001b[1;33m\u001b[0m\u001b[1;33m\u001b[0m\u001b[0m\n\u001b[0m",
      "\u001b[1;31mNameError\u001b[0m: name 'Trues' is not defined"
     ]
    }
   ],
   "source": [
    "print(int(True))"
   ]
  },
  {
   "cell_type": "code",
   "execution_count": 11,
   "metadata": {},
   "outputs": [
    {
     "ename": "SyntaxError",
     "evalue": "invalid syntax (<ipython-input-11-6f1750677980>, line 4)",
     "output_type": "error",
     "traceback": [
      "\u001b[1;36m  File \u001b[1;32m\"<ipython-input-11-6f1750677980>\"\u001b[1;36m, line \u001b[1;32m4\u001b[0m\n\u001b[1;33m    print('this one shoulnd't be too hard')\u001b[0m\n\u001b[1;37m                            ^\u001b[0m\n\u001b[1;31mSyntaxError\u001b[0m\u001b[1;31m:\u001b[0m invalid syntax\n"
     ]
    }
   ],
   "source": [
    "print(str(3) + int(True))\n",
    "print(3 + int(123) + str(True))\n",
    "print(int('0') + 'should work' * 3)\n",
    "print('this one shoulnd't be too hard')"
   ]
  },
  {
   "cell_type": "code",
   "execution_count": 3,
   "metadata": {},
   "outputs": [
    {
     "name": "stdout",
     "output_type": "stream",
     "text": [
      "This-just-might-work.\n"
     ]
    }
   ],
   "source": [
    "x = ['This','just','might','work.']\n",
    "sentence = ('-'.join(x))\n",
    "print(sentence)"
   ]
  },
  {
   "cell_type": "code",
   "execution_count": 5,
   "metadata": {},
   "outputs": [
    {
     "name": "stdout",
     "output_type": "stream",
     "text": [
      "es\n",
      "Strin\n",
      "est String\n",
      "Test Strin\n",
      "Tttn\n",
      "s ti\n",
      "gnirtS tseT\n"
     ]
    }
   ],
   "source": [
    "string = 'Test String'\n",
    "print(string[1:3])\n",
    "print(string[-6:-1])\n",
    "print(string[1:])\n",
    "print(string[:-1])\n",
    "print(string[::3])\n",
    "print(string[2:10:2])\n",
    "print(string[::-1])\n",
    "#print(string[2:10:-2]"
   ]
  },
  {
   "cell_type": "code",
   "execution_count": 6,
   "metadata": {},
   "outputs": [
    {
     "name": "stdout",
     "output_type": "stream",
     "text": [
      "actors\n"
     ]
    }
   ],
   "source": [
    "name = \"your favorite actors name\"\n",
    "# put your code here\n",
    "other_name= name[-11:-5]\n",
    "print(other_name)"
   ]
  },
  {
   "cell_type": "code",
   "execution_count": 8,
   "metadata": {},
   "outputs": [
    {
     "name": "stdout",
     "output_type": "stream",
     "text": [
      "actors \n"
     ]
    }
   ],
   "source": [
    "name = \"your favorite actors name\"\n",
    "# put your code here\n",
    "other_name= name[14:21]\n",
    "print(other_name)"
   ]
  },
  {
   "cell_type": "markdown",
   "metadata": {},
   "source": [
    "Bangladesh\n",
    "Bangla\n",
    "gla\n",
    "agl"
   ]
  },
  {
   "cell_type": "code",
   "execution_count": 9,
   "metadata": {},
   "outputs": [
    {
     "name": "stdout",
     "output_type": "stream",
     "text": [
      "0 C\n",
      "1 o\n",
      "2 u\n",
      "3 n\n",
      "4 t\n",
      "5  \n",
      "6 m\n",
      "7 e\n"
     ]
    }
   ],
   "source": [
    "test_string = 'Count me'\n",
    "for idx, char in enumerate(test_string):\n",
    "  print(idx, char)"
   ]
  },
  {
   "cell_type": "code",
   "execution_count": 13,
   "metadata": {},
   "outputs": [
    {
     "ename": "SyntaxError",
     "evalue": "unexpected EOF while parsing (<ipython-input-13-6c15cf9c04b5>, line 6)",
     "output_type": "error",
     "traceback": [
      "\u001b[1;36m  File \u001b[1;32m\"<ipython-input-13-6c15cf9c04b5>\"\u001b[1;36m, line \u001b[1;32m6\u001b[0m\n\u001b[1;33m    #print(idx,x)\u001b[0m\n\u001b[1;37m                 ^\u001b[0m\n\u001b[1;31mSyntaxError\u001b[0m\u001b[1;31m:\u001b[0m unexpected EOF while parsing\n"
     ]
    }
   ],
   "source": [
    "sentence_list = []\n",
    "sentence = \"I wonder how this will work.\"\n",
    "\n",
    "# place your code below\n",
    "for idx,x in enumerate(sentence):\n",
    "    #print(idx,x)"
   ]
  },
  {
   "cell_type": "code",
   "execution_count": 12,
   "metadata": {},
   "outputs": [
    {
     "name": "stdout",
     "output_type": "stream",
     "text": [
      "['This', 'is', 'a', 'string', 'with', 'words']\n"
     ]
    }
   ],
   "source": [
    "import re\n",
    "\n",
    "mystr = 'This is a string, with words.'\n",
    "wordList = re.sub(\"[^\\w]\", \" \",  mystr).split()\n",
    "print(wordList)"
   ]
  },
  {
   "cell_type": "code",
   "execution_count": 2,
   "metadata": {},
   "outputs": [
    {
     "name": "stdout",
     "output_type": "stream",
     "text": [
      "['I', 'wonder', 'how', 'this', 'will', 'work.']\n"
     ]
    }
   ],
   "source": [
    "import re\n",
    "sentence_list = []\n",
    "sentence = \"I wonder how this will work.\"\n",
    "\n",
    "\n",
    "sentence_list = re.sub(\"[^\\w]\", \" \",  sentence).split()\n",
    "s=sentence_list[5]+'.'\n",
    "sentence_list[5]=s\n",
    "print(sentence_list)"
   ]
  },
  {
   "cell_type": "code",
   "execution_count": 3,
   "metadata": {},
   "outputs": [
    {
     "name": "stdout",
     "output_type": "stream",
     "text": [
      "['I', 'wonder', 'how', 'this', 'will', 'work.']\n"
     ]
    }
   ],
   "source": [
    "import re\n",
    "sentence_list = []\n",
    "sentence = \"I wonder how this will work.\"\n",
    "\n",
    "\n",
    "sentence_list = re.sub(\"[^\\w]\", \" \",  sentence).split()\n",
    "sentence_list[5]=sentence_list[5]+'.'\n",
    "\n",
    "print(sentence_list)"
   ]
  },
  {
   "cell_type": "code",
   "execution_count": 4,
   "metadata": {},
   "outputs": [
    {
     "name": "stdout",
     "output_type": "stream",
     "text": [
      "15.0\n"
     ]
    }
   ],
   "source": [
    "def compute_area_of_a_triangle(base, height):\n",
    "    area = .5*base*height\n",
    "    return(area)\n",
    "    \n",
    "print(compute_area_of_a_triangle(5,6))"
   ]
  },
  {
   "cell_type": "code",
   "execution_count": 5,
   "metadata": {},
   "outputs": [
    {
     "name": "stdout",
     "output_type": "stream",
     "text": [
      "['f', 'r', 'e', 'n', 'c', 'h', ' ', 'f', 'r', 'i', 'e', 's']\n",
      "['0', '1', '2', '3', '4', '5', '6', '7', '8', '9']\n"
     ]
    }
   ],
   "source": [
    "string = 'french fries'\n",
    "print(list(string))\n",
    "string = '0123456789'\n",
    "print(list(string))"
   ]
  },
  {
   "cell_type": "code",
   "execution_count": 6,
   "metadata": {},
   "outputs": [
    {
     "name": "stdout",
     "output_type": "stream",
     "text": [
      "['this', 'is', 'a', 'string']\n"
     ]
    }
   ],
   "source": [
    "old_string = 'this is a string'\n",
    "output = old_string.split()\n",
    "print(output)"
   ]
  },
  {
   "cell_type": "code",
   "execution_count": 7,
   "metadata": {},
   "outputs": [
    {
     "name": "stdout",
     "output_type": "stream",
     "text": [
      "['1', '2', '3', '4', '5']\n"
     ]
    }
   ],
   "source": [
    "comma_sep_nums = '1, 2, 3, 4, 5'\n",
    "output = comma_sep_nums.split(', ')\n",
    "print(output)"
   ]
  },
  {
   "cell_type": "code",
   "execution_count": 9,
   "metadata": {},
   "outputs": [
    {
     "name": "stdout",
     "output_type": "stream",
     "text": [
      "['1', '2', '3, 4, 5']\n"
     ]
    }
   ],
   "source": [
    "comma_sep_nums = '1, 2, 3, 4, 5'\n",
    "output = comma_sep_nums.split(', ', maxsplit=2)\n",
    "print(output)"
   ]
  },
  {
   "cell_type": "code",
   "execution_count": 10,
   "metadata": {},
   "outputs": [
    {
     "name": "stdout",
     "output_type": "stream",
     "text": [
      "['I', 'wonder', 'how', 'this', 'will', 'work.']\n"
     ]
    }
   ],
   "source": [
    "# leave this line alone\n",
    "x = \"I wonder how this will work.\"\n",
    "\n",
    "\n",
    "your_list = x.split(' ')\n",
    "print(your_list)"
   ]
  },
  {
   "cell_type": "code",
   "execution_count": 12,
   "metadata": {},
   "outputs": [
    {
     "name": "stdout",
     "output_type": "stream",
     "text": [
      "THIS IS PRETTY HARD TO READ. this is pretty hard to read. This is pretty hard to read.\n"
     ]
    }
   ],
   "source": [
    "# leave this line alone\n",
    "w = 'ThIs Is PrEtTy HaRd To ReAd.'\n",
    "\n",
    "\n",
    "x=w.upper()\n",
    "y=w.lower()\n",
    "z=w.capitalize()\n",
    "print(x,y,z)"
   ]
  },
  {
   "cell_type": "code",
   "execution_count": null,
   "metadata": {},
   "outputs": [],
   "source": []
  },
  {
   "cell_type": "code",
   "execution_count": 21,
   "metadata": {},
   "outputs": [
    {
     "name": "stdout",
     "output_type": "stream",
     "text": [
      " mn s n  nnd\n"
     ]
    }
   ],
   "source": [
    "string = 'a man is one u eionand'\n",
    "string = string.replace('a','')\n",
    "string = string.replace('A','')\n",
    "string = string.replace('e','')\n",
    "string = string.replace('E','')\n",
    "string = string.replace('i','')\n",
    "string = string.replace('I','')\n",
    "string = string.replace('o','')\n",
    "string = string.replace('O','')\n",
    "string = string.replace('u','')\n",
    "string = string.replace('U','')\n",
    "print(string)"
   ]
  },
  {
   "cell_type": "code",
   "execution_count": 23,
   "metadata": {},
   "outputs": [
    {
     "name": "stdout",
     "output_type": "stream",
     "text": [
      "They are 28 years old.\n"
     ]
    }
   ],
   "source": [
    "age = 28\n",
    "age_str = 'They are {} years old.'.format(age)\n",
    "print(age_str)"
   ]
  },
  {
   "cell_type": "code",
   "execution_count": 24,
   "metadata": {},
   "outputs": [
    {
     "name": "stdout",
     "output_type": "stream",
     "text": [
      "The result of 1 plus 3 is 4\n"
     ]
    }
   ],
   "source": [
    "x = 1\n",
    "y = 3\n",
    "new_string = 'The result of {} plus {} is {}'.format(x, y, x + y)\n",
    "print(new_string)"
   ]
  },
  {
   "cell_type": "code",
   "execution_count": 25,
   "metadata": {},
   "outputs": [
    {
     "name": "stdout",
     "output_type": "stream",
     "text": [
      "My favourite numbers are 1 and 2\n"
     ]
    }
   ],
   "source": [
    "def insert_x_and_y(x, y):\n",
    "  '''\n",
    "  Returns the string 'My favorite numbers are 1 and 2.' if x, y = 1, 2.\n",
    "\n",
    "  Parameters:\n",
    "  ----------\n",
    "  x : (int)\n",
    "  y : (int)\n",
    "\n",
    "  Returns:\n",
    "  ----------\n",
    "  A string that dynamically inserts the variables x and y\n",
    "  '''\n",
    " \n",
    "  new_string = f'My favourite numbers are {x} and {y}'\n",
    "  return(new_string)\n",
    "  \n",
    "print(insert_x_and_y(1,2))"
   ]
  },
  {
   "cell_type": "code",
   "execution_count": 3,
   "metadata": {},
   "outputs": [],
   "source": [
    "a_tuple = (1, 2, 3)\n",
    "another_tuple = ('a', 'b', 'c')\n",
    "a_third_tuple = (1, 'a', [3, 4, 5])\n",
    "a_tuple_of_tuples = ((2, 3), (5, 6), ('so', 'many', 'tuples'))\n"
   ]
  },
  {
   "cell_type": "code",
   "execution_count": 1,
   "metadata": {},
   "outputs": [
    {
     "name": "stdout",
     "output_type": "stream",
     "text": [
      "<class 'int'>\n",
      "(4,) ('a',) (0.8,)\n"
     ]
    }
   ],
   "source": [
    "one_element_tup = (4)\n",
    "print(type(one_element_tup))\n",
    "\n",
    "one_element_tup = (4,)\n",
    "new_one_element_tup = 'a',\n",
    "other_one_element_tup = tuple([0.8])\n",
    "\n",
    "print(one_element_tup, new_one_element_tup, other_one_element_tup)"
   ]
  },
  {
   "cell_type": "code",
   "execution_count": 3,
   "metadata": {},
   "outputs": [
    {
     "name": "stdout",
     "output_type": "stream",
     "text": [
      "('a', 'c', 'e')\n",
      "('a', 'c', 'e', 'b', 'd', 'f')\n"
     ]
    }
   ],
   "source": [
    "tuple_1 = ('a', 'c', 'e')\n",
    "tuple_2 = ('b', 'd', 'f')\n",
    "print((tuple_1))\n",
    "\n",
    "tuple_1 += tuple_2\n",
    "print((tuple_1))"
   ]
  },
  {
   "cell_type": "code",
   "execution_count": 7,
   "metadata": {},
   "outputs": [
    {
     "name": "stdout",
     "output_type": "stream",
     "text": [
      "(['a', 'b', 'c', 'd'],)\n"
     ]
    }
   ],
   "source": [
    "ex_tuple = (['a', 'b', 'c'],)\n",
    "ex_tuple[0].append('d')  # we can insert value in a list inside a tuple but we can not directly insert element in tuple\n",
    "print(ex_tuple)"
   ]
  },
  {
   "cell_type": "code",
   "execution_count": 18,
   "metadata": {},
   "outputs": [
    {
     "ename": "IndentationError",
     "evalue": "unexpected indent (<ipython-input-18-427766e71967>, line 14)",
     "output_type": "error",
     "traceback": [
      "\u001b[1;36m  File \u001b[1;32m\"<ipython-input-18-427766e71967>\"\u001b[1;36m, line \u001b[1;32m14\u001b[0m\n\u001b[1;33m    list1=list(tup)\u001b[0m\n\u001b[1;37m    ^\u001b[0m\n\u001b[1;31mIndentationError\u001b[0m\u001b[1;31m:\u001b[0m unexpected indent\n"
     ]
    }
   ],
   "source": [
    "def insert_at_index_2(tup, x):\n",
    "  '''\n",
    "  Returns a new tuple where x is inserted into the original tuple at index 2.\n",
    "\n",
    "  Parameters:\n",
    "  ----------\n",
    "  tup: (tuple)\n",
    "  x: (int)\n",
    "\n",
    "  Returns:\n",
    "  ----------\n",
    "  A new tuple with x inserted at index 2.\n",
    "  '''\n",
    "    list1=list(tup)\n",
    "    list1.append(x)\n",
    "    tup1=tuple(list1)\n",
    "    return(tup1)\n",
    "    \n",
    "\n",
    "tup=(1,2,3)\n",
    "x=[1,2,3,4]\n",
    "\n",
    "print(insert_at_index_2(tup,x))\n"
   ]
  },
  {
   "cell_type": "code",
   "execution_count": 20,
   "metadata": {},
   "outputs": [
    {
     "name": "stdout",
     "output_type": "stream",
     "text": [
      "(1, 2, [1, 2, 3, 4])\n"
     ]
    }
   ],
   "source": [
    "def insert_at_index_2(tup, x):\n",
    "    list1=list(tup)\n",
    "    list1.append(x)\n",
    "    tup1=tuple(list1)\n",
    "    return(tup1)\n",
    "tup=(1,2)\n",
    "x=[1,2,3,4]\n",
    "\n",
    "print(insert_at_index_2(tup,x))"
   ]
  },
  {
   "cell_type": "code",
   "execution_count": 3,
   "metadata": {},
   "outputs": [
    {
     "name": "stdout",
     "output_type": "stream",
     "text": [
      "A + B + C\n"
     ]
    }
   ],
   "source": [
    "# this is correct...\n",
    "def your_function_name(a, b, c):\n",
    "    return \"A + B + C\"\n",
    "\n",
    "# this is also correct...\n",
    "def your_function_name(a, b, c):\n",
    "    x = \"A + B + C\"\n",
    "    return x\n",
    "\n",
    "# this is CORRECT\n",
    "def your_function_name(a, b, c):\n",
    "    return print(\"A + B + C\")\n",
    "\n",
    "# this is also INCORRECT...\n",
    "def your_function_name(a, b, c):\n",
    "    x = \"A + B + C\"\n",
    "    return print(x)\n",
    "\n",
    "your_function_name(1,2,3)\n"
   ]
  },
  {
   "cell_type": "code",
   "execution_count": 1,
   "metadata": {},
   "outputs": [
    {
     "ename": "SyntaxError",
     "evalue": "invalid token (<ipython-input-1-16a32fc7014d>, line 2)",
     "output_type": "error",
     "traceback": [
      "\u001b[1;36m  File \u001b[1;32m\"<ipython-input-1-16a32fc7014d>\"\u001b[1;36m, line \u001b[1;32m2\u001b[0m\n\u001b[1;33m    Value = [Moon, Dhaka,01762775529]\u001b[0m\n\u001b[1;37m                                   ^\u001b[0m\n\u001b[1;31mSyntaxError\u001b[0m\u001b[1;31m:\u001b[0m invalid token\n"
     ]
    }
   ],
   "source": [
    "field = [Name,Address,Phn]\n",
    "Value = [Moon, Dhaka,01762775529]"
   ]
  },
  {
   "cell_type": "code",
   "execution_count": 2,
   "metadata": {},
   "outputs": [
    {
     "name": "stdout",
     "output_type": "stream",
     "text": [
      "{'salt': 2.31, 'butter': 3.23, 'flour': 5.67, 'baking soda': 3.2, 'sugar': 3.5}\n"
     ]
    }
   ],
   "source": [
    "item1, price1 = 'salt', 2.31\n",
    "item2, price2 = 'butter', 3.23\n",
    "item3, price3 = 'flour', 5.67\n",
    "item4, price4 = 'baking soda', 3.20\n",
    "item5, price5 = 'sugar', 3.50\n",
    "\n",
    "baking_dict = {\n",
    "               item1: price1,\n",
    "               item2: price2,\n",
    "               item3: price3,\n",
    "               item4: price4,\n",
    "               item5: price5,\n",
    "      }\n",
    "\n",
    "print(baking_dict)"
   ]
  },
  {
   "cell_type": "code",
   "execution_count": 3,
   "metadata": {},
   "outputs": [
    {
     "name": "stdout",
     "output_type": "stream",
     "text": [
      "{1: 2, 2: 5, 3: 10, 5: 44}\n"
     ]
    }
   ],
   "source": [
    "# put your code below\n",
    "def return_dict_of_vals(tup1, tup2, tup3, tup4):\n",
    "    '''\n",
    "    Packs 4 tuples into a dictionary.\n",
    "\n",
    "    Parameters:\n",
    "    ----------\n",
    "    tup1: Tuple\n",
    "        length 2 tuple, the first element will be the key, the second element will be the value\n",
    "    \n",
    "    tup2 ... tup4\n",
    "    \n",
    "    Return:\n",
    "    ----------\n",
    "    A dictionary \n",
    "    '''\n",
    "    dict = {\n",
    "               tup1[0]: tup1[1],\n",
    "               tup2[0]: tup2[1],\n",
    "               tup3[0]: tup3[1],\n",
    "               tup4[0]: tup4[1]\n",
    "      }\n",
    "    return(dict)\n",
    "    \n",
    "tup1=(1,2)\n",
    "tup2=(2,5)\n",
    "tup3=(3,10)\n",
    "tup4=(5,44)\n",
    "\n",
    "print(return_dict_of_vals(tup1, tup2, tup3, tup4))"
   ]
  },
  {
   "cell_type": "code",
   "execution_count": 8,
   "metadata": {},
   "outputs": [
    {
     "name": "stdout",
     "output_type": "stream",
     "text": [
      "{'new item': 1}\n",
      "{'new item': 1, 'another item': 2}\n",
      "{'new item': 1, 'another item': 2, 'Name': 'Moon'}\n",
      "{'new item': 1, 'another item': 2, 'Name': 'Moo'}\n"
     ]
    }
   ],
   "source": [
    "some_dict = dict()\n",
    "\n",
    "some_dict['new item'] = 1\n",
    "\n",
    "print(some_dict)\n",
    "\n",
    "some_dict['another item'] = 2\n",
    "\n",
    "print(some_dict)\n",
    "\n",
    "some_dict['Name']='Moon'\n",
    "print(some_dict)\n",
    "\n",
    "some_dict['Name']='Moo'\n",
    "print(some_dict)"
   ]
  },
  {
   "cell_type": "code",
   "execution_count": 9,
   "metadata": {},
   "outputs": [
    {
     "name": "stdout",
     "output_type": "stream",
     "text": [
      "{1: 5, 'Name': 'Borna', 3: 5}\n"
     ]
    }
   ],
   "source": [
    "# put your code below\n",
    "def add_val_to_dict(d, tup):\n",
    "    '''\n",
    "    Adds a key, value pair to a dictionary copy and returns that copy\n",
    "\n",
    "    Parameters:\n",
    "    ----------\n",
    "    d: Dictionary\n",
    "        A dictionary passed into the function\n",
    "    \n",
    "    tup: Tuple\n",
    "        A key/value pair to be added to the dictionary\n",
    "    \n",
    "    Return:\n",
    "    ----------\n",
    "    A dictionary \n",
    "    '''\n",
    "    d1 = d.copy()\n",
    "    d1[tup[0]]=tup[1]\n",
    "    \n",
    "    return(d1)\n",
    "    \n",
    "d={1:5,\"Name\":\"Borna\"}\n",
    "tup=(3,5)\n",
    "\n",
    "print(add_val_to_dict(d, tup))"
   ]
  },
  {
   "cell_type": "code",
   "execution_count": 4,
   "metadata": {},
   "outputs": [
    {
     "name": "stdout",
     "output_type": "stream",
     "text": [
      "z\n"
     ]
    }
   ],
   "source": [
    "alphabet = 'abcdefghijklmnopqrstuvwxyz'\n",
    "d = {}\n",
    "\n",
    "# the second argument to enumerate starts counting i at 1\n",
    "for i, letter in enumerate(alphabet, 1):\n",
    "    d[i] = letter\n",
    "\n",
    "# find the 13th letter\n",
    "thirteenth = d[26]\n",
    "\n",
    "print(thirteenth)"
   ]
  },
  {
   "cell_type": "code",
   "execution_count": 5,
   "metadata": {},
   "outputs": [
    {
     "ename": "KeyError",
     "evalue": "'snake'",
     "output_type": "error",
     "traceback": [
      "\u001b[1;31m---------------------------------------------------------------------------\u001b[0m",
      "\u001b[1;31mKeyError\u001b[0m                                  Traceback (most recent call last)",
      "\u001b[1;32m<ipython-input-5-7f610dc46ad9>\u001b[0m in \u001b[0;36m<module>\u001b[1;34m\u001b[0m\n\u001b[0;32m      2\u001b[0m \u001b[1;33m\u001b[0m\u001b[0m\n\u001b[0;32m      3\u001b[0m \u001b[1;31m# this will error\u001b[0m\u001b[1;33m\u001b[0m\u001b[1;33m\u001b[0m\u001b[1;33m\u001b[0m\u001b[0m\n\u001b[1;32m----> 4\u001b[1;33m \u001b[0mprint\u001b[0m\u001b[1;33m(\u001b[0m\u001b[0md\u001b[0m\u001b[1;33m[\u001b[0m\u001b[1;34m'snake'\u001b[0m\u001b[1;33m]\u001b[0m\u001b[1;33m)\u001b[0m\u001b[1;33m\u001b[0m\u001b[1;33m\u001b[0m\u001b[0m\n\u001b[0m",
      "\u001b[1;31mKeyError\u001b[0m: 'snake'"
     ]
    }
   ],
   "source": [
    "d = {'dog':'cat', 'frog':'gnat'}\n",
    "\n",
    "# this will error\n",
    "print(d['snake'])"
   ]
  },
  {
   "cell_type": "code",
   "execution_count": 7,
   "metadata": {},
   "outputs": [
    {
     "name": "stdout",
     "output_type": "stream",
     "text": [
      "That key isn't in the dictionary.\n"
     ]
    }
   ],
   "source": [
    "# put your code below\n",
    "\n",
    "def check_dict(d,k):\n",
    "    if k in d:\n",
    "        return(d[k])\n",
    "    else:\n",
    "        return( \"That key isn't in the dictionary.\")\n",
    "        \n",
    "d={1:5,2:15,6:\"moon\"}\n",
    "k=3\n",
    "\n",
    "print(check_dict(d,k))"
   ]
  },
  {
   "cell_type": "code",
   "execution_count": null,
   "metadata": {},
   "outputs": [],
   "source": [
    "fruit_dict = {'apple': 20, 'peach':15, 'pineapple':3}\n",
    "\n",
    "tup_list = fruit_dict.items()\n",
    "\n",
    "print(tup_list)"
   ]
  },
  {
   "cell_type": "code",
   "execution_count": 8,
   "metadata": {},
   "outputs": [
    {
     "name": "stdout",
     "output_type": "stream",
     "text": [
      "dict_keys(['apple', 'peach', 'pineapple'])\n",
      "dict_values([20, 15, 3])\n"
     ]
    }
   ],
   "source": [
    "fruit_dict = {'apple': 20, 'peach':15, 'pineapple':3}\n",
    "\n",
    "keys_list = fruit_dict.keys()\n",
    "print(keys_list)\n",
    "\n",
    "values_list = fruit_dict.values()\n",
    "print(values_list)"
   ]
  },
  {
   "cell_type": "code",
   "execution_count": 9,
   "metadata": {},
   "outputs": [
    {
     "name": "stdout",
     "output_type": "stream",
     "text": [
      "dict_values([{1: 1}])\n",
      "dict_values([{8: 16}])\n",
      "dict_values([{27: 81}])\n",
      "dict_values([{64: 256}])\n",
      "dict_values([{125: 625}])\n",
      "dict_values([{216: 1296}])\n",
      "dict_values([{343: 2401}])\n",
      "dict_values([{512: 4096}])\n",
      "dict_values([{729: 6561}])\n"
     ]
    }
   ],
   "source": [
    "d = {1: {1: {1: 1}},\n",
    "     2: {4: {8: 16}},\n",
    "     3: {9: {27: 81}},\n",
    "     4: {16: {64: 256}},\n",
    "     5: {25: {125: 625}},\n",
    "     6: {36: {216: 1296}},\n",
    "     7: {49: {343: 2401}},\n",
    "     8: {64: {512: 4096}},\n",
    "     9: {81: {729: 6561}}}\n",
    "\n",
    "for value in d.values():\n",
    "    print(value.values())"
   ]
  },
  {
   "cell_type": "code",
   "execution_count": 14,
   "metadata": {},
   "outputs": [
    {
     "name": "stdout",
     "output_type": "stream",
     "text": [
      "apple 20\n",
      "peach 15\n",
      "pineapple 3\n",
      "apple 20\n",
      "peach 15\n",
      "pineapple 3\n"
     ]
    }
   ],
   "source": [
    "fruit_dict = {'apple': 20, 'peach':15, 'pineapple':3}\n",
    "\n",
    "# # can extract the items into a list\n",
    "# #   note that the list() casting here is not necessary\n",
    "# fruit_tup_list = sorted(list(fruit_dict.items()))\n",
    "\n",
    "# for fruit in fruit_tup_list:\n",
    "#     print(fruit[0], fruit[1])\n",
    "\n",
    "for k, v in sorted(fruit_dict.items()): \n",
    "    print(k,v)\n",
    "\n",
    "for key in fruit_dict: # note the .key() method is implied\n",
    "    print(key, fruit_dict[key])"
   ]
  },
  {
   "cell_type": "code",
   "execution_count": 15,
   "metadata": {},
   "outputs": [
    {
     "name": "stdout",
     "output_type": "stream",
     "text": [
      "{'ford': 20, 'chevy': 30, 'toyota': 40, 'volkswagen': 50}\n"
     ]
    }
   ],
   "source": [
    "def return_dict_of_tuples(list_of_tups):\n",
    "    d = {}\n",
    "\n",
    "    for tup in list_of_tups:\n",
    "        d[tup[0]] = tup[1]\n",
    "\n",
    "    return d\n",
    "\n",
    "\n",
    "list_of_tups = [('ford', 20),\n",
    "('chevy', 30), ('toyota', 40), ('volkswagen', 50)]\n",
    "\n",
    "print(return_dict_of_tuples(list_of_tups))"
   ]
  },
  {
   "cell_type": "code",
   "execution_count": 19,
   "metadata": {},
   "outputs": [
    {
     "name": "stdout",
     "output_type": "stream",
     "text": [
      "{2: 1, 10: 2, 20: 3}\n"
     ]
    }
   ],
   "source": [
    "# put your code here\n",
    "def reverse_dict(d):\n",
    "    d1={}\n",
    "    for k in d:\n",
    "        d1[d[k]] = k\n",
    "        \n",
    "    return(d1)\n",
    "    \n",
    "d={1:2,2:10,3:20}\n",
    "\n",
    "print(reverse_dict(d))"
   ]
  },
  {
   "cell_type": "code",
   "execution_count": 20,
   "metadata": {},
   "outputs": [
    {
     "name": "stdout",
     "output_type": "stream",
     "text": [
      "some value\n",
      "{'a_third_key': 'some third value'}\n"
     ]
    }
   ],
   "source": [
    "d = {'some_key': 'some value', \n",
    "     'some_other_key': 'some other value',\n",
    "     'a_third_key': 'some third value' }\n",
    "\n",
    "if 'some_key' in d:\n",
    "    popped_val = d.pop('some_key')\n",
    "print(popped_val)\n",
    "\n",
    "del d['some_other_key']\n",
    "print(d)"
   ]
  },
  {
   "cell_type": "code",
   "execution_count": 21,
   "metadata": {},
   "outputs": [
    {
     "name": "stdout",
     "output_type": "stream",
     "text": [
      "1688243141592\n",
      "1688243142152\n"
     ]
    }
   ],
   "source": [
    "d = {1: 'one', 2: 'two'}\n",
    "\n",
    "print(id(d))\n",
    "d2 = d.copy()\n",
    "print(id(d2))"
   ]
  },
  {
   "cell_type": "code",
   "execution_count": 22,
   "metadata": {},
   "outputs": [
    {
     "name": "stdout",
     "output_type": "stream",
     "text": [
      "<class 'dict'>\n",
      "<class 'set'>\n"
     ]
    }
   ],
   "source": [
    "y={}\n",
    "x = {1}\n",
    "print(type(y))\n",
    "print(type(x))"
   ]
  },
  {
   "cell_type": "code",
   "execution_count": 23,
   "metadata": {},
   "outputs": [
    {
     "name": "stdout",
     "output_type": "stream",
     "text": [
      "{'r', 'i', 'n', 'g', 's', 't'}\n",
      "{1, 2, 3}\n",
      "{1, 2, 3}\n"
     ]
    }
   ],
   "source": [
    "# casting string to set\n",
    "x = 'string'\n",
    "print(set(x))\n",
    "\n",
    "# casting list to set\n",
    "y = [1,2,3]\n",
    "print(set(y))\n",
    "\n",
    "# casting tuple to set\n",
    "z = (1,2,3)\n",
    "print(set(z))"
   ]
  },
  {
   "cell_type": "code",
   "execution_count": 25,
   "metadata": {},
   "outputs": [
    {
     "name": "stdout",
     "output_type": "stream",
     "text": [
      "{1, 2, 3}\n"
     ]
    }
   ],
   "source": [
    "x = {1,2,3,1,2,3,1,2,3}\n",
    "print(x)"
   ]
  },
  {
   "cell_type": "code",
   "execution_count": 26,
   "metadata": {},
   "outputs": [
    {
     "name": "stdout",
     "output_type": "stream",
     "text": [
      "(1, 3, 2)\n"
     ]
    }
   ],
   "source": [
    "# leave these lines alone\n",
    "x = [1, 3, 1, 1, 2, 2, 1, 3, 3, 1, 3, 1, 3, 3, 3, 1, 3, 3, 3, 1]\n",
    "\n",
    "# put your code below\n",
    "list1=[]\n",
    "tup=()\n",
    "for i in x:\n",
    "    if i in list1:\n",
    "        continue\n",
    "    elif i not in list1:\n",
    "        list1.append(i)\n",
    "\n",
    "# instead, simply do...\n",
    "tup=tuple(list1)\n",
    "\n",
    "print(tup)\n"
   ]
  },
  {
   "cell_type": "code",
   "execution_count": 29,
   "metadata": {},
   "outputs": [
    {
     "name": "stdout",
     "output_type": "stream",
     "text": [
      "(1, 2, 3)\n"
     ]
    }
   ],
   "source": [
    "# leave these lines alone\n",
    "x = [1, 3, 1, 1, 2, 2, 1, 3, 3, 1, 3, 1, 3, 3, 3, 1, 3, 3, 3, 1]\n",
    "\n",
    "# put your code below\n",
    "list1=[]\n",
    "#y=()\n",
    "for i in x:\n",
    "    if i in list1:\n",
    "        continue\n",
    "    elif i not in list1:\n",
    "        list1.append(i)\n",
    "list1.sort()\n",
    "\n",
    "# instead, simply do...\n",
    "y=tuple(list1)\n",
    "\n",
    "print(y)\n"
   ]
  },
  {
   "cell_type": "code",
   "execution_count": 1,
   "metadata": {},
   "outputs": [
    {
     "name": "stdout",
     "output_type": "stream",
     "text": [
      "6\n"
     ]
    }
   ],
   "source": [
    "x = {1,2,3}\n",
    "sum=0\n",
    "for i in x:\n",
    "    sum+=i\n",
    "    \n",
    "print(sum)"
   ]
  },
  {
   "cell_type": "code",
   "execution_count": 2,
   "metadata": {},
   "outputs": [
    {
     "name": "stdout",
     "output_type": "stream",
     "text": [
      "{10}\n"
     ]
    }
   ],
   "source": [
    "# leave these lines alone\n",
    "x = {i for i in range(10)}\n",
    "y = {i for i in range(5, 11)}\n",
    "z = {i for i in range(10, 20)}\n",
    "\n",
    "# put your code below\n",
    "b=x.union(y)\n",
    "\n",
    "a=z.intersection(b)\n",
    "\n",
    "print(a)"
   ]
  },
  {
   "cell_type": "code",
   "execution_count": 3,
   "metadata": {},
   "outputs": [
    {
     "name": "stdout",
     "output_type": "stream",
     "text": [
      "{10}\n"
     ]
    }
   ],
   "source": [
    "# leave these lines alone\n",
    "x = {i for i in range(10)}\n",
    "y = {i for i in range(5, 11)}\n",
    "z = {i for i in range(10, 20)}\n",
    "\n",
    "# put your code below\n",
    "a=z.intersection(x.union(y))\n",
    "\n",
    "print(a)"
   ]
  },
  {
   "cell_type": "code",
   "execution_count": null,
   "metadata": {},
   "outputs": [],
   "source": [
    "a={1,2,3,4,5}\n",
    "b={3,5,7}\n",
    "\n",
    "a-b = {1,2,4}\n",
    "b-a={7}"
   ]
  },
  {
   "cell_type": "code",
   "execution_count": null,
   "metadata": {},
   "outputs": [],
   "source": [
    "a = {0,1,1,2,3,5,8}\n",
    "b = {3,5,8,13,21,34}\n",
    "\n",
    "a-b={0,1,2}.union(b)\n",
    "LHS={0,1,2,3,5,8,13,21,34}\n",
    "\n",
    "b-a={13,21,34}.union(a)\n",
    "RHS={0.1.2.3.5.8.13.21.34}"
   ]
  },
  {
   "cell_type": "code",
   "execution_count": 5,
   "metadata": {},
   "outputs": [
    {
     "name": "stdout",
     "output_type": "stream",
     "text": [
      "{0, 2, 4, 6, 8}\n"
     ]
    }
   ],
   "source": [
    "# put your code here\n",
    "\n",
    "def set_accumulator(n):\n",
    "    set1={0}\n",
    "   \n",
    "    for i in range(1,n):\n",
    "        if i%2==0:\n",
    "            set1.add(i)\n",
    "            \n",
    "    return(set1)\n",
    "    \n",
    "print(set_accumulator(9))"
   ]
  },
  {
   "cell_type": "code",
   "execution_count": 7,
   "metadata": {},
   "outputs": [
    {
     "name": "stdout",
     "output_type": "stream",
     "text": [
      "3.0\n"
     ]
    }
   ],
   "source": [
    "import math\n",
    "a = math.sqrt(9)\n",
    "\n",
    "print(a)"
   ]
  },
  {
   "cell_type": "code",
   "execution_count": 8,
   "metadata": {},
   "outputs": [
    {
     "name": "stdout",
     "output_type": "stream",
     "text": [
      "24\n"
     ]
    }
   ],
   "source": [
    "import math\n",
    "print(math.factorial(4))  # factorial n means product of all number from 1 to n"
   ]
  },
  {
   "cell_type": "code",
   "execution_count": null,
   "metadata": {},
   "outputs": [],
   "source": [
    "l=[1,2,3]\n",
    "sum=1+4+9=14"
   ]
  },
  {
   "cell_type": "code",
   "execution_count": 9,
   "metadata": {},
   "outputs": [
    {
     "name": "stdout",
     "output_type": "stream",
     "text": [
      "(7.416198487095663, 12.569805089976535)\n"
     ]
    }
   ],
   "source": [
    "# write import statement below\n",
    "import math\n",
    "\n",
    "def euc_norm(list1, list2):\n",
    "  '''\n",
    "  Calculates the euclidean norm of two lists of equal length.\n",
    "\n",
    "  Parameters:\n",
    "  ----------\n",
    "  list1: (list)\n",
    "  list2: (list)\n",
    "\n",
    "  Returns:\n",
    "  ----------\n",
    "  Returns a float representing the euclidean norm\n",
    "  \n",
    "  '''\n",
    "  s1=0\n",
    "  s2=0\n",
    "  \n",
    "  for i in list1:\n",
    "      s1+=i*i\n",
    "      \n",
    "  for j in list2:\n",
    "      s2+=j*j\n",
    "      \n",
    "  n1 = math.sqrt(s1)\n",
    "  n2 = math.sqrt(s2)\n",
    "  \n",
    "  return(n1,n2)\n",
    "\n",
    "list1=[1,2,3,4,5]\n",
    "list2=[2,4,5,7,8]\n",
    "\n",
    "print(euc_norm(list1, list2))\n",
    "\n"
   ]
  },
  {
   "cell_type": "code",
   "execution_count": 11,
   "metadata": {},
   "outputs": [
    {
     "name": "stdout",
     "output_type": "stream",
     "text": [
      "5.196152422706632\n"
     ]
    }
   ],
   "source": [
    "# write import statement below\n",
    "import math\n",
    "\n",
    "def euc_norm(list1, list2):\n",
    "  '''\n",
    "  Calculates the euclidean norm of two lists of equal length.\n",
    "\n",
    "  Parameters:\n",
    "  ----------\n",
    "  list1: (list)\n",
    "  list2: (list)\n",
    "\n",
    "  Returns:\n",
    "  ----------\n",
    "  Returns a float representing the euclidean norm\n",
    "  \n",
    "  '''\n",
    "  s1=0\n",
    "  \n",
    "  for i in range(len(list1)):\n",
    "      s1+= (list1[i]-list2[i])*(list1[i]-list2[i])\n",
    "      \n",
    "  \n",
    "      \n",
    "  n1 = math.sqrt(s1)\n",
    "  \n",
    "  \n",
    "  return(n1)\n",
    "\n",
    "list1=[1,2,3,4,5]\n",
    "list2=[2,4,5,7,8]\n",
    "\n",
    "print(euc_norm(list1, list2))\n",
    "\n"
   ]
  },
  {
   "cell_type": "code",
   "execution_count": null,
   "metadata": {},
   "outputs": [],
   "source": [
    "(1,2,3) = (123)(213)(231)(312)(321)(132)()\n",
    "\n",
    "n = factorial(n)"
   ]
  },
  {
   "cell_type": "code",
   "execution_count": 5,
   "metadata": {},
   "outputs": [
    {
     "name": "stdout",
     "output_type": "stream",
     "text": [
      "10.0\n"
     ]
    }
   ],
   "source": [
    "# write import statement below\n",
    "import math\n",
    "\n",
    "def combinations(n, k):\n",
    "  '''\n",
    "  Returns the number of ways you can choose k items out of n if order does not matter\n",
    "\n",
    "  Parameters:\n",
    "  ----------\n",
    "  n: (int)\n",
    "  k: (int)\n",
    "\n",
    "  Returns:\n",
    "  ----------\n",
    "  Returns the number of combinations of k items out of n.\n",
    "  '''\n",
    "  m = math.factorial(n) / (math.factorial(k)*math.factorial(n-k))\n",
    "    \n",
    "  return(m)\n",
    "\n",
    "print(combinations(5,3))\n",
    "        \n",
    "  \n",
    "    "
   ]
  },
  {
   "cell_type": "code",
   "execution_count": 4,
   "metadata": {},
   "outputs": [
    {
     "name": "stdout",
     "output_type": "stream",
     "text": [
      "120\n"
     ]
    }
   ],
   "source": [
    "import math\n",
    "x=math.factorial(5)\n",
    "\n",
    "print(x)"
   ]
  },
  {
   "cell_type": "code",
   "execution_count": 11,
   "metadata": {},
   "outputs": [
    {
     "name": "stdout",
     "output_type": "stream",
     "text": [
      "0.08602501583421374\n"
     ]
    }
   ],
   "source": [
    "import random\n",
    "print(random.random())  # Generate a random number between 0 to 1"
   ]
  },
  {
   "cell_type": "code",
   "execution_count": 18,
   "metadata": {},
   "outputs": [
    {
     "name": "stdout",
     "output_type": "stream",
     "text": [
      "rock\n"
     ]
    }
   ],
   "source": [
    "import random\n",
    "char_list = ['rock', 'paper', 'scissors']\n",
    "print(random.choice(char_list))   # choice a list element randomly"
   ]
  },
  {
   "cell_type": "code",
   "execution_count": 21,
   "metadata": {},
   "outputs": [
    {
     "name": "stdout",
     "output_type": "stream",
     "text": [
      "3\n"
     ]
    }
   ],
   "source": [
    "import random\n",
    "print(random.randint(1, 10))   # generate a random number between two given number"
   ]
  },
  {
   "cell_type": "code",
   "execution_count": 26,
   "metadata": {},
   "outputs": [
    {
     "name": "stdout",
     "output_type": "stream",
     "text": [
      "Counter({' ': 8, 'o': 4, 'e': 3, 'h': 2, 'u': 2, 'r': 2, 'T': 1, 'q': 1, 'i': 1, 'c': 1, 'k': 1, 'b': 1, 'w': 1, 'n': 1, 'f': 1, 'x': 1, 'j': 1, 'm': 1, 'p': 1, 's': 1, 'v': 1, 't': 1, 'l': 1, 'a': 1, 'z': 1, 'y': 1, 'd': 1, 'g': 1, '.': 1}) Counter({'The': 1, 'quick': 1, 'brown': 1, 'fox': 1, 'jumps': 1, 'over': 1, 'the': 1, 'lazy': 1, 'dog.': 1})\n"
     ]
    }
   ],
   "source": [
    "from collections import Counter\n",
    "sentence = 'The quick brown fox jumps over the lazy dog.'\n",
    "ch_counts = Counter(sentence)\n",
    "word_counts = Counter(sentence.split())\n",
    "print(ch_counts,word_counts)"
   ]
  },
  {
   "cell_type": "code",
   "execution_count": null,
   "metadata": {},
   "outputs": [],
   "source": []
  }
 ],
 "metadata": {
  "kernelspec": {
   "display_name": "Python 3",
   "language": "python",
   "name": "python3"
  },
  "language_info": {
   "codemirror_mode": {
    "name": "ipython",
    "version": 3
   },
   "file_extension": ".py",
   "mimetype": "text/x-python",
   "name": "python",
   "nbconvert_exporter": "python",
   "pygments_lexer": "ipython3",
   "version": "3.7.4"
  }
 },
 "nbformat": 4,
 "nbformat_minor": 2
}
