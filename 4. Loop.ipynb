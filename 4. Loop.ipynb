{
 "cells": [
  {
   "cell_type": "markdown",
   "metadata": {},
   "source": [
    "# Loop"
   ]
  },
  {
   "cell_type": "markdown",
   "metadata": {},
   "source": [
    "1. Every loop has 3 part\n",
    "\n",
    "i) initialization  (from where the loop start)\n",
    "\n",
    "ii) condition  (The end of the loop or where the loop finished)\n",
    "\n",
    "ii) increment / decrement  (how loop operate in every step)\n",
    "\n"
   ]
  },
  {
   "cell_type": "markdown",
   "metadata": {},
   "source": [
    "### While Loop"
   ]
  },
  {
   "cell_type": "markdown",
   "metadata": {},
   "source": [
    "\n",
    "i) initialization (at the beginning)\n",
    "\n",
    "ii) condition (Inside while)\n",
    "\n",
    "ii) increment / decrement   (last step of while)"
   ]
  },
  {
   "cell_type": "code",
   "execution_count": 1,
   "metadata": {},
   "outputs": [],
   "source": [
    "# print your name 100 times \n",
    "\n",
    "i = 1\n",
    "\n",
    "while(i<=100):\n",
    "    print(\"Borna\", end=' ')\n",
    "    i+=1"
   ]
  },
  {
   "cell_type": "code",
   "execution_count": 2,
   "metadata": {},
   "outputs": [
    {
     "name": "stdout",
     "output_type": "stream",
     "text": [
      "Enter a number:5\n",
      "1 2 3 4 5 "
     ]
    }
   ],
   "source": [
    "# print 1 to n using while loop\n",
    "\n",
    "n = int(input(\"Enter a number:\"))\n",
    "i = 1\n",
    "while(i<=n):\n",
    "    print(i,end=\" \")\n",
    "    i=i+1"
   ]
  },
  {
   "cell_type": "code",
   "execution_count": 3,
   "metadata": {},
   "outputs": [
    {
     "name": "stdout",
     "output_type": "stream",
     "text": [
      "Enter a number:10\n",
      "10 9 8 7 6 5 4 3 2 1 "
     ]
    }
   ],
   "source": [
    "# print from n to 1 using while loop\n",
    "n = int(input(\"Enter a number:\"))\n",
    "i = n\n",
    "while(i>0):\n",
    "    print(i,end=\" \")\n",
    "    i=i-1\n"
   ]
  },
  {
   "cell_type": "code",
   "execution_count": 4,
   "metadata": {},
   "outputs": [
    {
     "name": "stdout",
     "output_type": "stream",
     "text": [
      "Enter a number:50\n",
      "2 4 6 8 10 12 14 16 18 20 22 24 26 28 30 32 34 36 38 40 42 44 46 48 50 "
     ]
    }
   ],
   "source": [
    "# Print all even number from 1 to n\n",
    "n = int(input(\"Enter a number:\"))\n",
    "i = 1\n",
    "while(i<=n):\n",
    "    if(i%2==0):\n",
    "        print(i, end =\" \")\n",
    "    i = i+1\n",
    "        \n"
   ]
  },
  {
   "cell_type": "code",
   "execution_count": 5,
   "metadata": {},
   "outputs": [
    {
     "name": "stdout",
     "output_type": "stream",
     "text": [
      "Enter a number:30\n",
      "1 3 5 7 9 11 13 15 17 19 21 23 25 27 29 "
     ]
    }
   ],
   "source": [
    "# Print all odd number from 1 to n\n",
    "n = int(input(\"Enter a number:\"))\n",
    "i = 1\n",
    "while(i<=n):\n",
    "    if(i%2!=0):#or if(i%2 is not 0)\n",
    "        print(i, end =\" \")\n",
    "    i = i+1\n",
    "        "
   ]
  },
  {
   "cell_type": "code",
   "execution_count": 6,
   "metadata": {},
   "outputs": [
    {
     "name": "stdout",
     "output_type": "stream",
     "text": [
      "Enter a number:5\n",
      "6\n"
     ]
    }
   ],
   "source": [
    "# Print the sum of all number from 2 to n\n",
    "n = int(input(\"Enter a number:\"))\n",
    "i = 2\n",
    "sum = 0\n",
    "while(i<=n):\n",
    "    sum = sum+i\n",
    "    i = i+2\n",
    "print(sum)\n"
   ]
  },
  {
   "cell_type": "code",
   "execution_count": 1,
   "metadata": {},
   "outputs": [
    {
     "name": "stdout",
     "output_type": "stream",
     "text": [
      "Enter a number:15\n",
      "56\n"
     ]
    }
   ],
   "source": [
    "# print the sum of all even number from 1 to n\n",
    "n = int(input(\"Enter a number:\"))\n",
    "i = 1\n",
    "sum = 0\n",
    "while(i<=n):\n",
    "    if(i%2==0):\n",
    "        sum = sum+i\n",
    "    i = i+1\n",
    "print(sum)\n",
    "    "
   ]
  },
  {
   "cell_type": "code",
   "execution_count": 4,
   "metadata": {},
   "outputs": [
    {
     "name": "stdout",
     "output_type": "stream",
     "text": [
      "Enter a number:15\n",
      "64\n"
     ]
    }
   ],
   "source": [
    "# print the sum of all odd number from 1 to n . but check the number using condition.\n",
    "n = int(input(\"Enter a number:\"))\n",
    "i = 1\n",
    "sum = 0\n",
    "while(i<=n):\n",
    "    if(i%2!=0):\n",
    "    \n",
    "        sum=sum+i\n",
    "    i+=1\n",
    "    \n",
    "print(sum)\n",
    "    \n",
    "\n",
    "\n"
   ]
  },
  {
   "cell_type": "markdown",
   "metadata": {},
   "source": [
    "# For Loop"
   ]
  }
 ],
 "metadata": {
  "kernelspec": {
   "display_name": "Python 3",
   "language": "python",
   "name": "python3"
  },
  "language_info": {
   "codemirror_mode": {
    "name": "ipython",
    "version": 3
   },
   "file_extension": ".py",
   "mimetype": "text/x-python",
   "name": "python",
   "nbconvert_exporter": "python",
   "pygments_lexer": "ipython3",
   "version": "3.7.4"
  }
 },
 "nbformat": 4,
 "nbformat_minor": 2
}
