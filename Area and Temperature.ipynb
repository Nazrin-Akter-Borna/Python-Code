{
 "cells": [
  {
   "cell_type": "markdown",
   "metadata": {},
   "source": [
    "# Area calculation"
   ]
  },
  {
   "cell_type": "markdown",
   "metadata": {},
   "source": [
    "1. Rectangle = length * width\n",
    "\n",
    "2. Traingle = 1/2*Base * Hight\n",
    "\n",
    "3. Parallel = base * hight\n",
    "\n",
    "4. Square = One side length * one side length\n",
    "\n",
    "5. Circle = Pi * r * r\n",
    "\n",
    "6. Rombos = 1/2*(small diagonal * large diagonal)"
   ]
  },
  {
   "cell_type": "code",
   "execution_count": 1,
   "metadata": {},
   "outputs": [
    {
     "name": "stdout",
     "output_type": "stream",
     "text": [
      "5\n",
      "3\n",
      "The area of rectengle is 15\n"
     ]
    }
   ],
   "source": [
    "l = int(input())\n",
    "w = int(input())\n",
    "\n",
    "area = l * w\n",
    "\n",
    "print(\"The area of rectengle is %d\"%area)"
   ]
  },
  {
   "cell_type": "code",
   "execution_count": 2,
   "metadata": {},
   "outputs": [
    {
     "name": "stdout",
     "output_type": "stream",
     "text": [
      "8\n",
      "10\n",
      "the area of triangle is 40\n"
     ]
    }
   ],
   "source": [
    "b = int(input())\n",
    "h = int(input())\n",
    "\n",
    "area = 1/2*b*h\n",
    "\n",
    "print(\"the area of triangle is %d\"%area)\n"
   ]
  },
  {
   "cell_type": "code",
   "execution_count": 5,
   "metadata": {},
   "outputs": [
    {
     "name": "stdout",
     "output_type": "stream",
     "text": [
      "enter the radius:5\n",
      "the area of a circle is 78\n"
     ]
    }
   ],
   "source": [
    "pi = 3.1416\n",
    "r = int(input('enter the radius:'))\n",
    "\n",
    "area = pi*r*r\n",
    "\n",
    "print('the area of a circle is %d'%area)\n"
   ]
  },
  {
   "cell_type": "markdown",
   "metadata": {},
   "source": [
    "### Paremiter"
   ]
  },
  {
   "cell_type": "markdown",
   "metadata": {},
   "source": [
    "1. Rectangle = 2(length + width)\n",
    "\n",
    "2. Trangle = (a+b+c)  # the sum of three edges\n",
    "\n",
    "3. Parallel = 2(base + side)\n",
    "\n",
    "4. Square = 4a  # a means one side of the square\n",
    "\n",
    "5. Circle = 2 * pi * r\n",
    "\n",
    "6. Rhombus = 4a   # a means one side of Rhombus"
   ]
  },
  {
   "cell_type": "code",
   "execution_count": 2,
   "metadata": {},
   "outputs": [
    {
     "name": "stdout",
     "output_type": "stream",
     "text": [
      "Enter the redius : 5.6\n",
      "Perimeter of Circle = 35.186\n"
     ]
    }
   ],
   "source": [
    "# 5. Circle\n",
    "pi = 3.1416\n",
    "r = float(input(\"Enter the redius : \"))\n",
    "\n",
    "p = 2 * pi * r\n",
    "\n",
    "print(\"Perimeter of Circle = %.3f\"%p)"
   ]
  },
  {
   "cell_type": "markdown",
   "metadata": {},
   "source": [
    "\n",
    "\n",
    "a = float(input('enter one side of rhombus:'))\n"
   ]
  },
  {
   "cell_type": "code",
   "execution_count": 6,
   "metadata": {},
   "outputs": [
    {
     "name": "stdout",
     "output_type": "stream",
     "text": [
      "enter one side of rhombus:4.15\n",
      "peremiter of rhombus 16.60\n"
     ]
    }
   ],
   "source": [
    "a = float(input(\"enter one side of rhombus:\" ))\n",
    "\n",
    "p = 4*a\n",
    "\n",
    "print(\"peremiter of rhombus %.2f\"%p)"
   ]
  },
  {
   "cell_type": "code",
   "execution_count": null,
   "metadata": {},
   "outputs": [],
   "source": []
  }
 ],
 "metadata": {
  "kernelspec": {
   "display_name": "Python 3",
   "language": "python",
   "name": "python3"
  },
  "language_info": {
   "codemirror_mode": {
    "name": "ipython",
    "version": 3
   },
   "file_extension": ".py",
   "mimetype": "text/x-python",
   "name": "python",
   "nbconvert_exporter": "python",
   "pygments_lexer": "ipython3",
   "version": "3.7.4"
  }
 },
 "nbformat": 4,
 "nbformat_minor": 2
}
