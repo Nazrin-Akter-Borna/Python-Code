{
 "cells": [
  {
   "cell_type": "markdown",
   "metadata": {},
   "source": [
    "# While Loop"
   ]
  },
  {
   "cell_type": "markdown",
   "metadata": {},
   "source": [
    "###### take a number as input and print the sum of the even number from 2 to the input number using while loop"
   ]
  },
  {
   "cell_type": "code",
   "execution_count": 5,
   "metadata": {},
   "outputs": [
    {
     "name": "stdout",
     "output_type": "stream",
     "text": [
      "enter a number:15\n",
      "56\n"
     ]
    }
   ],
   "source": [
    "n = int(input(\"enter a number:\"))\n",
    "i = 2\n",
    "sum = 0\n",
    "\n",
    "while(i<= n):\n",
    "    if(i%2==0):\n",
    "        sum = sum+i\n",
    "    i = i+2\n",
    "\n",
    "print(sum)"
   ]
  },
  {
   "cell_type": "markdown",
   "metadata": {},
   "source": [
    "Take a numberr as input and print all the numbver from n to 1 using while loop"
   ]
  },
  {
   "cell_type": "code",
   "execution_count": 6,
   "metadata": {},
   "outputs": [
    {
     "name": "stdout",
     "output_type": "stream",
     "text": [
      "enter a number:55\n",
      "55 54 53 52 51 50 49 48 47 46 45 44 43 42 41 40 39 38 37 36 35 34 33 32 31 30 29 28 27 26 25 24 23 22 21 20 19 18 17 16 15 14 13 12 11 10 9 8 7 6 5 4 3 2 1 "
     ]
    }
   ],
   "source": [
    "n = int(input(\"enter a number:\"))\n",
    "i = n\n",
    "\n",
    "while(i>0):\n",
    "    print(i, end = \" \"  )\n",
    "    i = i-1"
   ]
  },
  {
   "cell_type": "code",
   "execution_count": 1,
   "metadata": {},
   "outputs": [
    {
     "name": "stdout",
     "output_type": "stream",
     "text": [
      "enter a number:3\n",
      "enter a number:50\n",
      "3 6 9 12 15 18 21 24 27 30 33 36 39 42 45 48 "
     ]
    }
   ],
   "source": [
    "#take two number as input and print all multiple of frist number between the two number.\n",
    "m = int(input('enter a number:'))\n",
    "n = int(input('enter a number:'))\n",
    "i = m\n",
    "\n",
    "while(i<=n):\n",
    "    print(i, end=' ')\n",
    "    i+=m\n",
    "    \n"
   ]
  },
  {
   "cell_type": "code",
   "execution_count": null,
   "metadata": {},
   "outputs": [],
   "source": []
  }
 ],
 "metadata": {
  "kernelspec": {
   "display_name": "Python 3",
   "language": "python",
   "name": "python3"
  },
  "language_info": {
   "codemirror_mode": {
    "name": "ipython",
    "version": 3
   },
   "file_extension": ".py",
   "mimetype": "text/x-python",
   "name": "python",
   "nbconvert_exporter": "python",
   "pygments_lexer": "ipython3",
   "version": "3.7.4"
  }
 },
 "nbformat": 4,
 "nbformat_minor": 2
}
