{
 "cells": [
  {
   "cell_type": "markdown",
   "metadata": {},
   "source": [
    "home work for june 15 2020"
   ]
  },
  {
   "cell_type": "code",
   "execution_count": 1,
   "metadata": {},
   "outputs": [
    {
     "name": "stdout",
     "output_type": "stream",
     "text": [
      "1141\n"
     ]
    }
   ],
   "source": [
    "#3\n",
    "a = '11'\n",
    "b = '41'\n",
    "\n",
    "c = a+b\n",
    "\n",
    "print(c)"
   ]
  },
  {
   "cell_type": "code",
   "execution_count": 2,
   "metadata": {},
   "outputs": [
    {
     "name": "stdout",
     "output_type": "stream",
     "text": [
      "18\n"
     ]
    }
   ],
   "source": [
    "#2\n",
    "m = \"9\"\n",
    "n = 9\n",
    "\n",
    "sum = int(m)+n\n",
    "\n",
    "print(sum)"
   ]
  },
  {
   "cell_type": "code",
   "execution_count": 9,
   "metadata": {},
   "outputs": [
    {
     "name": "stdout",
     "output_type": "stream",
     "text": [
      "enter a number:3\n",
      "enter a number:6\n",
      "enter a number:9\n",
      "6.0\n"
     ]
    }
   ],
   "source": [
    "#1\n",
    "num1=int(input('enter a number:'))\n",
    "num2=int(input('enter a number:'))\n",
    "num3=int(input('enter a number:'))\n",
    "\n",
    "average=(num1+num2+num3)/3\n",
    "\n",
    "print(average)"
   ]
  },
  {
   "cell_type": "code",
   "execution_count": 13,
   "metadata": {},
   "outputs": [
    {
     "name": "stdout",
     "output_type": "stream",
     "text": [
      "enter a number:95\n",
      "True\n"
     ]
    }
   ],
   "source": [
    "#if else condition\n",
    "x = int(input('enter a number:'))\n",
    "if(x<=100):\n",
    "    print(True)\n",
    "else:\n",
    "    print(False)\n",
    "    \n",
    "    "
   ]
  },
  {
   "cell_type": "code",
   "execution_count": 1,
   "metadata": {},
   "outputs": [
    {
     "name": "stdout",
     "output_type": "stream",
     "text": [
      "enter a number:18.0\n",
      "Teenager\n"
     ]
    }
   ],
   "source": [
    "#if elif else condition \n",
    "age = float(input('enter a number:'))\n",
    "if(age > 21):\n",
    "    print(\"Adult\")\n",
    "elif(age < 21):\n",
    "    print(\"Teenager\")\n",
    "else:\n",
    "    print(\"Kid\")\n"
   ]
  },
  {
   "cell_type": "code",
   "execution_count": 5,
   "metadata": {},
   "outputs": [
    {
     "name": "stdout",
     "output_type": "stream",
     "text": [
      "enter a number:35\n",
      "False\n"
     ]
    }
   ],
   "source": [
    "#nested if else condition\n",
    "num = int(input('enter a number:'))#if num is 40 print (True) or less than 40 print(False) if it did not meet any condition print none.\n",
    "if(num <= 40):\n",
    "    if(num == 40):\n",
    "        print(True)\n",
    "    else:\n",
    "        print(False)\n",
    "        \n",
    "else:\n",
    "    print(None)\n",
    "\n",
    "\n"
   ]
  },
  {
   "cell_type": "code",
   "execution_count": null,
   "metadata": {},
   "outputs": [],
   "source": [
    "#nested if\n",
    "num = 50\n",
    "if(num <= 40):\n",
    "    if(num == 40):\n",
    "        print(True)\n",
    "    else:\n",
    "        print(False)\n",
    "        \n",
    "else:\n",
    "    print(None)\n"
   ]
  },
  {
   "cell_type": "markdown",
   "metadata": {},
   "source": [
    "june 22 home work"
   ]
  },
  {
   "cell_type": "code",
   "execution_count": 2,
   "metadata": {},
   "outputs": [
    {
     "name": "stdout",
     "output_type": "stream",
     "text": [
      "enter a number:7\n",
      "enter a number:9\n",
      "7\n"
     ]
    }
   ],
   "source": [
    "#Take two number as input and find  the smallest number between them.\n",
    "a = int(input(\"enter a number:\"))\n",
    "b = int(input(\"enter a number:\"))\n",
    "\n",
    "if(a<b):\n",
    "    print(a)\n",
    "else:\n",
    "    print(b)\n",
    "\n",
    "#Tournary operator use kore we can do it.\n",
    "\n",
    "'''z = a if a<b else b'''\n"
   ]
  },
  {
   "cell_type": "code",
   "execution_count": 9,
   "metadata": {},
   "outputs": [
    {
     "name": "stdout",
     "output_type": "stream",
     "text": [
      "enter a number:1\n",
      "enter a number:2\n",
      "enter a number:3\n",
      "False\n"
     ]
    }
   ],
   "source": [
    "# Take 3 number as input and find the truth value of expression (a+b)<(a*c)\n",
    "a = int(input(\"enter a number:\"))\n",
    "b = int(input(\"enter a number:\"))\n",
    "c = int(input(\"enter a number:\"))\n",
    "\n",
    "if((a+b) < (a*c)):\n",
    "    print('True')\n",
    "    \n",
    "else:\n",
    "    print('False')"
   ]
  },
  {
   "cell_type": "code",
   "execution_count": 7,
   "metadata": {},
   "outputs": [
    {
     "name": "stdout",
     "output_type": "stream",
     "text": [
      "enter a number:12\n",
      "Yes\n"
     ]
    }
   ],
   "source": [
    "# take a number as input and if the number is even and greater than 10 print yes wheather print no.\n",
    "x = int(input(\"enter a number:\"))\n",
    "if(x%2==0):\n",
    "    if(x>10):\n",
    "        print(\"Yes\")\n",
    "else:\n",
    "    print(\"No\")\n"
   ]
  },
  {
   "cell_type": "code",
   "execution_count": 5,
   "metadata": {},
   "outputs": [
    {
     "name": "stdout",
     "output_type": "stream",
     "text": [
      "enter a number:12\n",
      "Yes\n"
     ]
    }
   ],
   "source": [
    "# take a number as input and if the number is even and greater than 10 print yes wheather print no.\n",
    "x = int(input(\"enter a number:\"))\n",
    "if(x%2==0 and x>10):\n",
    "    print(\"Yes\")\n",
    "else:\n",
    "    print(\"No\")"
   ]
  },
  {
   "cell_type": "code",
   "execution_count": 7,
   "metadata": {},
   "outputs": [
    {
     "name": "stdout",
     "output_type": "stream",
     "text": [
      "enter a number:5\n",
      "enter a number:2\n",
      "0.5\n"
     ]
    }
   ],
   "source": [
    "#take two number as input and find the difference between division and floar diviton of two number.\n",
    "a = int(input('enter a number:'))\n",
    "b = int(input('enter a number:'))\n",
    "\n",
    "c = (a/b - a//b)\n",
    "\n",
    "print(c)"
   ]
  },
  {
   "cell_type": "code",
   "execution_count": 4,
   "metadata": {},
   "outputs": [
    {
     "name": "stdout",
     "output_type": "stream",
     "text": [
      "enter a number:3\n",
      "enter a number:6\n",
      "2.0\n"
     ]
    }
   ],
   "source": [
    "###### take two number as input and devide the largest number by smallest number.\n",
    "#in here frist u should find the largest number then perform the divission operation\n",
    "a = int(input('enter a number:'))\n",
    "b = int(input('enter a number:'))\n",
    "if(a>b):\n",
    "    print(a/b)\n",
    "else:\n",
    "    print(b/a)\n"
   ]
  },
  {
   "cell_type": "code",
   "execution_count": 4,
   "metadata": {},
   "outputs": [
    {
     "name": "stdout",
     "output_type": "stream",
     "text": [
      "5\n",
      "4\n",
      "3\n",
      "2\n",
      "1\n"
     ]
    }
   ],
   "source": [
    "n = 5\n",
    "for i in reversed(range(1,n+1)):\n",
    "    print(i)"
   ]
  },
  {
   "cell_type": "code",
   "execution_count": 3,
   "metadata": {},
   "outputs": [
    {
     "name": "stdout",
     "output_type": "stream",
     "text": [
      "1\n",
      "2\n",
      "3\n",
      "4\n"
     ]
    }
   ],
   "source": [
    "i = 1\n",
    "\n",
    "while(i<5):\n",
    "    print(i)\n",
    "    i+=1"
   ]
  },
  {
   "cell_type": "code",
   "execution_count": null,
   "metadata": {},
   "outputs": [],
   "source": []
  }
 ],
 "metadata": {
  "kernelspec": {
   "display_name": "Python 3",
   "language": "python",
   "name": "python3"
  },
  "language_info": {
   "codemirror_mode": {
    "name": "ipython",
    "version": 3
   },
   "file_extension": ".py",
   "mimetype": "text/x-python",
   "name": "python",
   "nbconvert_exporter": "python",
   "pygments_lexer": "ipython3",
   "version": "3.7.4"
  }
 },
 "nbformat": 4,
 "nbformat_minor": 2
}
